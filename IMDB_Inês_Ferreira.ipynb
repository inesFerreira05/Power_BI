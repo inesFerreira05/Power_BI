{
 "cells": [
  {
   "cell_type": "markdown",
   "id": "e32be25d-46f8-4e1c-9f7f-9f936d3ca404",
   "metadata": {},
   "source": [
    "# Introdução ao PANDAS (continuação)\n",
    "## IMDB dataset"
   ]
  },
  {
   "cell_type": "code",
   "execution_count": 1,
   "id": "74503a20-a654-4080-8bd7-a3d9236d7ee9",
   "metadata": {},
   "outputs": [
    {
     "data": {
      "text/html": [
       "<div>\n",
       "<style scoped>\n",
       "    .dataframe tbody tr th:only-of-type {\n",
       "        vertical-align: middle;\n",
       "    }\n",
       "\n",
       "    .dataframe tbody tr th {\n",
       "        vertical-align: top;\n",
       "    }\n",
       "\n",
       "    .dataframe thead th {\n",
       "        text-align: right;\n",
       "    }\n",
       "</style>\n",
       "<table border=\"1\" class=\"dataframe\">\n",
       "  <thead>\n",
       "    <tr style=\"text-align: right;\">\n",
       "      <th></th>\n",
       "      <th>Rank</th>\n",
       "      <th>Title</th>\n",
       "      <th>Genre</th>\n",
       "      <th>Description</th>\n",
       "      <th>Director</th>\n",
       "      <th>Actors</th>\n",
       "      <th>Year</th>\n",
       "      <th>Runtime (Minutes)</th>\n",
       "      <th>Rating</th>\n",
       "      <th>Votes</th>\n",
       "      <th>Revenue (Millions)</th>\n",
       "      <th>Metascore</th>\n",
       "    </tr>\n",
       "  </thead>\n",
       "  <tbody>\n",
       "    <tr>\n",
       "      <th>0</th>\n",
       "      <td>1</td>\n",
       "      <td>Guardians of the Galaxy</td>\n",
       "      <td>Action,Adventure,Sci-Fi</td>\n",
       "      <td>A group of intergalactic criminals are forced ...</td>\n",
       "      <td>James Gunn</td>\n",
       "      <td>Chris Pratt, Vin Diesel, Bradley Cooper, Zoe S...</td>\n",
       "      <td>2014</td>\n",
       "      <td>121</td>\n",
       "      <td>8.1</td>\n",
       "      <td>757074</td>\n",
       "      <td>333.13</td>\n",
       "      <td>76.0</td>\n",
       "    </tr>\n",
       "    <tr>\n",
       "      <th>1</th>\n",
       "      <td>2</td>\n",
       "      <td>Prometheus</td>\n",
       "      <td>Adventure,Mystery,Sci-Fi</td>\n",
       "      <td>Following clues to the origin of mankind, a te...</td>\n",
       "      <td>Ridley Scott</td>\n",
       "      <td>Noomi Rapace, Logan Marshall-Green, Michael Fa...</td>\n",
       "      <td>2012</td>\n",
       "      <td>124</td>\n",
       "      <td>7.0</td>\n",
       "      <td>485820</td>\n",
       "      <td>126.46</td>\n",
       "      <td>65.0</td>\n",
       "    </tr>\n",
       "    <tr>\n",
       "      <th>2</th>\n",
       "      <td>3</td>\n",
       "      <td>Split</td>\n",
       "      <td>Horror,Thriller</td>\n",
       "      <td>Three girls are kidnapped by a man with a diag...</td>\n",
       "      <td>M. Night Shyamalan</td>\n",
       "      <td>James McAvoy, Anya Taylor-Joy, Haley Lu Richar...</td>\n",
       "      <td>2016</td>\n",
       "      <td>117</td>\n",
       "      <td>7.3</td>\n",
       "      <td>157606</td>\n",
       "      <td>138.12</td>\n",
       "      <td>62.0</td>\n",
       "    </tr>\n",
       "    <tr>\n",
       "      <th>3</th>\n",
       "      <td>4</td>\n",
       "      <td>Sing</td>\n",
       "      <td>Animation,Comedy,Family</td>\n",
       "      <td>In a city of humanoid animals, a hustling thea...</td>\n",
       "      <td>Christophe Lourdelet</td>\n",
       "      <td>Matthew McConaughey,Reese Witherspoon, Seth Ma...</td>\n",
       "      <td>2016</td>\n",
       "      <td>108</td>\n",
       "      <td>7.2</td>\n",
       "      <td>60545</td>\n",
       "      <td>270.32</td>\n",
       "      <td>59.0</td>\n",
       "    </tr>\n",
       "    <tr>\n",
       "      <th>4</th>\n",
       "      <td>5</td>\n",
       "      <td>Suicide Squad</td>\n",
       "      <td>Action,Adventure,Fantasy</td>\n",
       "      <td>A secret government agency recruits some of th...</td>\n",
       "      <td>David Ayer</td>\n",
       "      <td>Will Smith, Jared Leto, Margot Robbie, Viola D...</td>\n",
       "      <td>2016</td>\n",
       "      <td>123</td>\n",
       "      <td>6.2</td>\n",
       "      <td>393727</td>\n",
       "      <td>325.02</td>\n",
       "      <td>40.0</td>\n",
       "    </tr>\n",
       "    <tr>\n",
       "      <th>...</th>\n",
       "      <td>...</td>\n",
       "      <td>...</td>\n",
       "      <td>...</td>\n",
       "      <td>...</td>\n",
       "      <td>...</td>\n",
       "      <td>...</td>\n",
       "      <td>...</td>\n",
       "      <td>...</td>\n",
       "      <td>...</td>\n",
       "      <td>...</td>\n",
       "      <td>...</td>\n",
       "      <td>...</td>\n",
       "    </tr>\n",
       "    <tr>\n",
       "      <th>995</th>\n",
       "      <td>996</td>\n",
       "      <td>Secret in Their Eyes</td>\n",
       "      <td>Crime,Drama,Mystery</td>\n",
       "      <td>A tight-knit team of rising investigators, alo...</td>\n",
       "      <td>Billy Ray</td>\n",
       "      <td>Chiwetel Ejiofor, Nicole Kidman, Julia Roberts...</td>\n",
       "      <td>2015</td>\n",
       "      <td>111</td>\n",
       "      <td>6.2</td>\n",
       "      <td>27585</td>\n",
       "      <td>NaN</td>\n",
       "      <td>45.0</td>\n",
       "    </tr>\n",
       "    <tr>\n",
       "      <th>996</th>\n",
       "      <td>997</td>\n",
       "      <td>Hostel: Part II</td>\n",
       "      <td>Horror</td>\n",
       "      <td>Three American college students studying abroa...</td>\n",
       "      <td>Eli Roth</td>\n",
       "      <td>Lauren German, Heather Matarazzo, Bijou Philli...</td>\n",
       "      <td>2007</td>\n",
       "      <td>94</td>\n",
       "      <td>5.5</td>\n",
       "      <td>73152</td>\n",
       "      <td>17.54</td>\n",
       "      <td>46.0</td>\n",
       "    </tr>\n",
       "    <tr>\n",
       "      <th>997</th>\n",
       "      <td>998</td>\n",
       "      <td>Step Up 2: The Streets</td>\n",
       "      <td>Drama,Music,Romance</td>\n",
       "      <td>Romantic sparks occur between two dance studen...</td>\n",
       "      <td>Jon M. Chu</td>\n",
       "      <td>Robert Hoffman, Briana Evigan, Cassie Ventura,...</td>\n",
       "      <td>2008</td>\n",
       "      <td>98</td>\n",
       "      <td>6.2</td>\n",
       "      <td>70699</td>\n",
       "      <td>58.01</td>\n",
       "      <td>50.0</td>\n",
       "    </tr>\n",
       "    <tr>\n",
       "      <th>998</th>\n",
       "      <td>999</td>\n",
       "      <td>Search Party</td>\n",
       "      <td>Adventure,Comedy</td>\n",
       "      <td>A pair of friends embark on a mission to reuni...</td>\n",
       "      <td>Scot Armstrong</td>\n",
       "      <td>Adam Pally, T.J. Miller, Thomas Middleditch,Sh...</td>\n",
       "      <td>2014</td>\n",
       "      <td>93</td>\n",
       "      <td>5.6</td>\n",
       "      <td>4881</td>\n",
       "      <td>NaN</td>\n",
       "      <td>22.0</td>\n",
       "    </tr>\n",
       "    <tr>\n",
       "      <th>999</th>\n",
       "      <td>1000</td>\n",
       "      <td>Nine Lives</td>\n",
       "      <td>Comedy,Family,Fantasy</td>\n",
       "      <td>A stuffy businessman finds himself trapped ins...</td>\n",
       "      <td>Barry Sonnenfeld</td>\n",
       "      <td>Kevin Spacey, Jennifer Garner, Robbie Amell,Ch...</td>\n",
       "      <td>2016</td>\n",
       "      <td>87</td>\n",
       "      <td>5.3</td>\n",
       "      <td>12435</td>\n",
       "      <td>19.64</td>\n",
       "      <td>11.0</td>\n",
       "    </tr>\n",
       "  </tbody>\n",
       "</table>\n",
       "<p>1000 rows × 12 columns</p>\n",
       "</div>"
      ],
      "text/plain": [
       "     Rank                    Title                     Genre  \\\n",
       "0       1  Guardians of the Galaxy   Action,Adventure,Sci-Fi   \n",
       "1       2               Prometheus  Adventure,Mystery,Sci-Fi   \n",
       "2       3                    Split           Horror,Thriller   \n",
       "3       4                     Sing   Animation,Comedy,Family   \n",
       "4       5            Suicide Squad  Action,Adventure,Fantasy   \n",
       "..    ...                      ...                       ...   \n",
       "995   996     Secret in Their Eyes       Crime,Drama,Mystery   \n",
       "996   997          Hostel: Part II                    Horror   \n",
       "997   998   Step Up 2: The Streets       Drama,Music,Romance   \n",
       "998   999             Search Party          Adventure,Comedy   \n",
       "999  1000               Nine Lives     Comedy,Family,Fantasy   \n",
       "\n",
       "                                           Description              Director  \\\n",
       "0    A group of intergalactic criminals are forced ...            James Gunn   \n",
       "1    Following clues to the origin of mankind, a te...          Ridley Scott   \n",
       "2    Three girls are kidnapped by a man with a diag...    M. Night Shyamalan   \n",
       "3    In a city of humanoid animals, a hustling thea...  Christophe Lourdelet   \n",
       "4    A secret government agency recruits some of th...            David Ayer   \n",
       "..                                                 ...                   ...   \n",
       "995  A tight-knit team of rising investigators, alo...             Billy Ray   \n",
       "996  Three American college students studying abroa...              Eli Roth   \n",
       "997  Romantic sparks occur between two dance studen...            Jon M. Chu   \n",
       "998  A pair of friends embark on a mission to reuni...        Scot Armstrong   \n",
       "999  A stuffy businessman finds himself trapped ins...      Barry Sonnenfeld   \n",
       "\n",
       "                                                Actors  Year  \\\n",
       "0    Chris Pratt, Vin Diesel, Bradley Cooper, Zoe S...  2014   \n",
       "1    Noomi Rapace, Logan Marshall-Green, Michael Fa...  2012   \n",
       "2    James McAvoy, Anya Taylor-Joy, Haley Lu Richar...  2016   \n",
       "3    Matthew McConaughey,Reese Witherspoon, Seth Ma...  2016   \n",
       "4    Will Smith, Jared Leto, Margot Robbie, Viola D...  2016   \n",
       "..                                                 ...   ...   \n",
       "995  Chiwetel Ejiofor, Nicole Kidman, Julia Roberts...  2015   \n",
       "996  Lauren German, Heather Matarazzo, Bijou Philli...  2007   \n",
       "997  Robert Hoffman, Briana Evigan, Cassie Ventura,...  2008   \n",
       "998  Adam Pally, T.J. Miller, Thomas Middleditch,Sh...  2014   \n",
       "999  Kevin Spacey, Jennifer Garner, Robbie Amell,Ch...  2016   \n",
       "\n",
       "     Runtime (Minutes)  Rating   Votes  Revenue (Millions)  Metascore  \n",
       "0                  121     8.1  757074              333.13       76.0  \n",
       "1                  124     7.0  485820              126.46       65.0  \n",
       "2                  117     7.3  157606              138.12       62.0  \n",
       "3                  108     7.2   60545              270.32       59.0  \n",
       "4                  123     6.2  393727              325.02       40.0  \n",
       "..                 ...     ...     ...                 ...        ...  \n",
       "995                111     6.2   27585                 NaN       45.0  \n",
       "996                 94     5.5   73152               17.54       46.0  \n",
       "997                 98     6.2   70699               58.01       50.0  \n",
       "998                 93     5.6    4881                 NaN       22.0  \n",
       "999                 87     5.3   12435               19.64       11.0  \n",
       "\n",
       "[1000 rows x 12 columns]"
      ]
     },
     "execution_count": 1,
     "metadata": {},
     "output_type": "execute_result"
    }
   ],
   "source": [
    "import pandas as pd\n",
    "\n",
    "df_IMDB = pd.read_csv(\"IMDB-Movie-Data.csv\")\n",
    "\n",
    "df_IMDB"
   ]
  },
  {
   "cell_type": "markdown",
   "id": "dc8d5d03-4089-46ce-8aea-f5cbeb0dd0f2",
   "metadata": {},
   "source": [
    "### Revisão das funções já conhecidas:\n",
    "* .head()\n",
    "* .tail()"
   ]
  },
  {
   "cell_type": "code",
   "execution_count": 2,
   "id": "8367f548-a976-408c-a384-4a3f49994813",
   "metadata": {},
   "outputs": [
    {
     "data": {
      "text/html": [
       "<div>\n",
       "<style scoped>\n",
       "    .dataframe tbody tr th:only-of-type {\n",
       "        vertical-align: middle;\n",
       "    }\n",
       "\n",
       "    .dataframe tbody tr th {\n",
       "        vertical-align: top;\n",
       "    }\n",
       "\n",
       "    .dataframe thead th {\n",
       "        text-align: right;\n",
       "    }\n",
       "</style>\n",
       "<table border=\"1\" class=\"dataframe\">\n",
       "  <thead>\n",
       "    <tr style=\"text-align: right;\">\n",
       "      <th></th>\n",
       "      <th>Rank</th>\n",
       "      <th>Title</th>\n",
       "      <th>Genre</th>\n",
       "      <th>Description</th>\n",
       "      <th>Director</th>\n",
       "      <th>Actors</th>\n",
       "      <th>Year</th>\n",
       "      <th>Runtime (Minutes)</th>\n",
       "      <th>Rating</th>\n",
       "      <th>Votes</th>\n",
       "      <th>Revenue (Millions)</th>\n",
       "      <th>Metascore</th>\n",
       "    </tr>\n",
       "  </thead>\n",
       "  <tbody>\n",
       "    <tr>\n",
       "      <th>0</th>\n",
       "      <td>1</td>\n",
       "      <td>Guardians of the Galaxy</td>\n",
       "      <td>Action,Adventure,Sci-Fi</td>\n",
       "      <td>A group of intergalactic criminals are forced ...</td>\n",
       "      <td>James Gunn</td>\n",
       "      <td>Chris Pratt, Vin Diesel, Bradley Cooper, Zoe S...</td>\n",
       "      <td>2014</td>\n",
       "      <td>121</td>\n",
       "      <td>8.1</td>\n",
       "      <td>757074</td>\n",
       "      <td>333.13</td>\n",
       "      <td>76.0</td>\n",
       "    </tr>\n",
       "    <tr>\n",
       "      <th>1</th>\n",
       "      <td>2</td>\n",
       "      <td>Prometheus</td>\n",
       "      <td>Adventure,Mystery,Sci-Fi</td>\n",
       "      <td>Following clues to the origin of mankind, a te...</td>\n",
       "      <td>Ridley Scott</td>\n",
       "      <td>Noomi Rapace, Logan Marshall-Green, Michael Fa...</td>\n",
       "      <td>2012</td>\n",
       "      <td>124</td>\n",
       "      <td>7.0</td>\n",
       "      <td>485820</td>\n",
       "      <td>126.46</td>\n",
       "      <td>65.0</td>\n",
       "    </tr>\n",
       "  </tbody>\n",
       "</table>\n",
       "</div>"
      ],
      "text/plain": [
       "   Rank                    Title                     Genre  \\\n",
       "0     1  Guardians of the Galaxy   Action,Adventure,Sci-Fi   \n",
       "1     2               Prometheus  Adventure,Mystery,Sci-Fi   \n",
       "\n",
       "                                         Description      Director  \\\n",
       "0  A group of intergalactic criminals are forced ...    James Gunn   \n",
       "1  Following clues to the origin of mankind, a te...  Ridley Scott   \n",
       "\n",
       "                                              Actors  Year  Runtime (Minutes)  \\\n",
       "0  Chris Pratt, Vin Diesel, Bradley Cooper, Zoe S...  2014                121   \n",
       "1  Noomi Rapace, Logan Marshall-Green, Michael Fa...  2012                124   \n",
       "\n",
       "   Rating   Votes  Revenue (Millions)  Metascore  \n",
       "0     8.1  757074              333.13       76.0  \n",
       "1     7.0  485820              126.46       65.0  "
      ]
     },
     "execution_count": 2,
     "metadata": {},
     "output_type": "execute_result"
    }
   ],
   "source": [
    "df_IMDB.head(2)"
   ]
  },
  {
   "cell_type": "code",
   "execution_count": 3,
   "id": "07af3d47-ddfc-4c4e-b300-3e4a3258791a",
   "metadata": {},
   "outputs": [
    {
     "data": {
      "text/html": [
       "<div>\n",
       "<style scoped>\n",
       "    .dataframe tbody tr th:only-of-type {\n",
       "        vertical-align: middle;\n",
       "    }\n",
       "\n",
       "    .dataframe tbody tr th {\n",
       "        vertical-align: top;\n",
       "    }\n",
       "\n",
       "    .dataframe thead th {\n",
       "        text-align: right;\n",
       "    }\n",
       "</style>\n",
       "<table border=\"1\" class=\"dataframe\">\n",
       "  <thead>\n",
       "    <tr style=\"text-align: right;\">\n",
       "      <th></th>\n",
       "      <th>Rank</th>\n",
       "      <th>Title</th>\n",
       "      <th>Genre</th>\n",
       "      <th>Description</th>\n",
       "      <th>Director</th>\n",
       "      <th>Actors</th>\n",
       "      <th>Year</th>\n",
       "      <th>Runtime (Minutes)</th>\n",
       "      <th>Rating</th>\n",
       "      <th>Votes</th>\n",
       "      <th>Revenue (Millions)</th>\n",
       "      <th>Metascore</th>\n",
       "    </tr>\n",
       "  </thead>\n",
       "  <tbody>\n",
       "    <tr>\n",
       "      <th>998</th>\n",
       "      <td>999</td>\n",
       "      <td>Search Party</td>\n",
       "      <td>Adventure,Comedy</td>\n",
       "      <td>A pair of friends embark on a mission to reuni...</td>\n",
       "      <td>Scot Armstrong</td>\n",
       "      <td>Adam Pally, T.J. Miller, Thomas Middleditch,Sh...</td>\n",
       "      <td>2014</td>\n",
       "      <td>93</td>\n",
       "      <td>5.6</td>\n",
       "      <td>4881</td>\n",
       "      <td>NaN</td>\n",
       "      <td>22.0</td>\n",
       "    </tr>\n",
       "    <tr>\n",
       "      <th>999</th>\n",
       "      <td>1000</td>\n",
       "      <td>Nine Lives</td>\n",
       "      <td>Comedy,Family,Fantasy</td>\n",
       "      <td>A stuffy businessman finds himself trapped ins...</td>\n",
       "      <td>Barry Sonnenfeld</td>\n",
       "      <td>Kevin Spacey, Jennifer Garner, Robbie Amell,Ch...</td>\n",
       "      <td>2016</td>\n",
       "      <td>87</td>\n",
       "      <td>5.3</td>\n",
       "      <td>12435</td>\n",
       "      <td>19.64</td>\n",
       "      <td>11.0</td>\n",
       "    </tr>\n",
       "  </tbody>\n",
       "</table>\n",
       "</div>"
      ],
      "text/plain": [
       "     Rank         Title                  Genre  \\\n",
       "998   999  Search Party       Adventure,Comedy   \n",
       "999  1000    Nine Lives  Comedy,Family,Fantasy   \n",
       "\n",
       "                                           Description          Director  \\\n",
       "998  A pair of friends embark on a mission to reuni...    Scot Armstrong   \n",
       "999  A stuffy businessman finds himself trapped ins...  Barry Sonnenfeld   \n",
       "\n",
       "                                                Actors  Year  \\\n",
       "998  Adam Pally, T.J. Miller, Thomas Middleditch,Sh...  2014   \n",
       "999  Kevin Spacey, Jennifer Garner, Robbie Amell,Ch...  2016   \n",
       "\n",
       "     Runtime (Minutes)  Rating  Votes  Revenue (Millions)  Metascore  \n",
       "998                 93     5.6   4881                 NaN       22.0  \n",
       "999                 87     5.3  12435               19.64       11.0  "
      ]
     },
     "execution_count": 3,
     "metadata": {},
     "output_type": "execute_result"
    }
   ],
   "source": [
    "df_IMDB.tail(2)"
   ]
  },
  {
   "cell_type": "markdown",
   "id": "687b30c4-f744-4b90-8ab3-fe6543871ac8",
   "metadata": {},
   "source": [
    "### Parâmetros do nosso DataFrame"
   ]
  },
  {
   "cell_type": "markdown",
   "id": "45f7b75b-d4d6-45e1-9e1c-6d631342e94f",
   "metadata": {},
   "source": [
    "* **index_col=\"title\"** - parâmetro index\n",
    "<p>Este serve para podermos ordenar as observações através de determinada coluna (neste caso a coluna \"title\").</p>\n",
    "<p>Se não colocarmos este parâmetro, o pandas por defeito cria uma \"coluna\" inicial com os índices das observações.</p>"
   ]
  },
  {
   "cell_type": "code",
   "execution_count": 4,
   "id": "d7e981d6-dd21-4624-9de5-93d4a525c49d",
   "metadata": {},
   "outputs": [
    {
     "data": {
      "text/html": [
       "<div>\n",
       "<style scoped>\n",
       "    .dataframe tbody tr th:only-of-type {\n",
       "        vertical-align: middle;\n",
       "    }\n",
       "\n",
       "    .dataframe tbody tr th {\n",
       "        vertical-align: top;\n",
       "    }\n",
       "\n",
       "    .dataframe thead th {\n",
       "        text-align: right;\n",
       "    }\n",
       "</style>\n",
       "<table border=\"1\" class=\"dataframe\">\n",
       "  <thead>\n",
       "    <tr style=\"text-align: right;\">\n",
       "      <th></th>\n",
       "      <th>Rank</th>\n",
       "      <th>Genre</th>\n",
       "      <th>Description</th>\n",
       "      <th>Director</th>\n",
       "      <th>Actors</th>\n",
       "      <th>Year</th>\n",
       "      <th>Runtime (Minutes)</th>\n",
       "      <th>Rating</th>\n",
       "      <th>Votes</th>\n",
       "      <th>Revenue (Millions)</th>\n",
       "      <th>Metascore</th>\n",
       "    </tr>\n",
       "    <tr>\n",
       "      <th>Title</th>\n",
       "      <th></th>\n",
       "      <th></th>\n",
       "      <th></th>\n",
       "      <th></th>\n",
       "      <th></th>\n",
       "      <th></th>\n",
       "      <th></th>\n",
       "      <th></th>\n",
       "      <th></th>\n",
       "      <th></th>\n",
       "      <th></th>\n",
       "    </tr>\n",
       "  </thead>\n",
       "  <tbody>\n",
       "    <tr>\n",
       "      <th>Guardians of the Galaxy</th>\n",
       "      <td>1</td>\n",
       "      <td>Action,Adventure,Sci-Fi</td>\n",
       "      <td>A group of intergalactic criminals are forced ...</td>\n",
       "      <td>James Gunn</td>\n",
       "      <td>Chris Pratt, Vin Diesel, Bradley Cooper, Zoe S...</td>\n",
       "      <td>2014</td>\n",
       "      <td>121</td>\n",
       "      <td>8.1</td>\n",
       "      <td>757074</td>\n",
       "      <td>333.13</td>\n",
       "      <td>76.0</td>\n",
       "    </tr>\n",
       "    <tr>\n",
       "      <th>Prometheus</th>\n",
       "      <td>2</td>\n",
       "      <td>Adventure,Mystery,Sci-Fi</td>\n",
       "      <td>Following clues to the origin of mankind, a te...</td>\n",
       "      <td>Ridley Scott</td>\n",
       "      <td>Noomi Rapace, Logan Marshall-Green, Michael Fa...</td>\n",
       "      <td>2012</td>\n",
       "      <td>124</td>\n",
       "      <td>7.0</td>\n",
       "      <td>485820</td>\n",
       "      <td>126.46</td>\n",
       "      <td>65.0</td>\n",
       "    </tr>\n",
       "    <tr>\n",
       "      <th>Split</th>\n",
       "      <td>3</td>\n",
       "      <td>Horror,Thriller</td>\n",
       "      <td>Three girls are kidnapped by a man with a diag...</td>\n",
       "      <td>M. Night Shyamalan</td>\n",
       "      <td>James McAvoy, Anya Taylor-Joy, Haley Lu Richar...</td>\n",
       "      <td>2016</td>\n",
       "      <td>117</td>\n",
       "      <td>7.3</td>\n",
       "      <td>157606</td>\n",
       "      <td>138.12</td>\n",
       "      <td>62.0</td>\n",
       "    </tr>\n",
       "    <tr>\n",
       "      <th>Sing</th>\n",
       "      <td>4</td>\n",
       "      <td>Animation,Comedy,Family</td>\n",
       "      <td>In a city of humanoid animals, a hustling thea...</td>\n",
       "      <td>Christophe Lourdelet</td>\n",
       "      <td>Matthew McConaughey,Reese Witherspoon, Seth Ma...</td>\n",
       "      <td>2016</td>\n",
       "      <td>108</td>\n",
       "      <td>7.2</td>\n",
       "      <td>60545</td>\n",
       "      <td>270.32</td>\n",
       "      <td>59.0</td>\n",
       "    </tr>\n",
       "    <tr>\n",
       "      <th>Suicide Squad</th>\n",
       "      <td>5</td>\n",
       "      <td>Action,Adventure,Fantasy</td>\n",
       "      <td>A secret government agency recruits some of th...</td>\n",
       "      <td>David Ayer</td>\n",
       "      <td>Will Smith, Jared Leto, Margot Robbie, Viola D...</td>\n",
       "      <td>2016</td>\n",
       "      <td>123</td>\n",
       "      <td>6.2</td>\n",
       "      <td>393727</td>\n",
       "      <td>325.02</td>\n",
       "      <td>40.0</td>\n",
       "    </tr>\n",
       "  </tbody>\n",
       "</table>\n",
       "</div>"
      ],
      "text/plain": [
       "                         Rank                     Genre  \\\n",
       "Title                                                     \n",
       "Guardians of the Galaxy     1   Action,Adventure,Sci-Fi   \n",
       "Prometheus                  2  Adventure,Mystery,Sci-Fi   \n",
       "Split                       3           Horror,Thriller   \n",
       "Sing                        4   Animation,Comedy,Family   \n",
       "Suicide Squad               5  Action,Adventure,Fantasy   \n",
       "\n",
       "                                                               Description  \\\n",
       "Title                                                                        \n",
       "Guardians of the Galaxy  A group of intergalactic criminals are forced ...   \n",
       "Prometheus               Following clues to the origin of mankind, a te...   \n",
       "Split                    Three girls are kidnapped by a man with a diag...   \n",
       "Sing                     In a city of humanoid animals, a hustling thea...   \n",
       "Suicide Squad            A secret government agency recruits some of th...   \n",
       "\n",
       "                                     Director  \\\n",
       "Title                                           \n",
       "Guardians of the Galaxy            James Gunn   \n",
       "Prometheus                       Ridley Scott   \n",
       "Split                      M. Night Shyamalan   \n",
       "Sing                     Christophe Lourdelet   \n",
       "Suicide Squad                      David Ayer   \n",
       "\n",
       "                                                                    Actors  \\\n",
       "Title                                                                        \n",
       "Guardians of the Galaxy  Chris Pratt, Vin Diesel, Bradley Cooper, Zoe S...   \n",
       "Prometheus               Noomi Rapace, Logan Marshall-Green, Michael Fa...   \n",
       "Split                    James McAvoy, Anya Taylor-Joy, Haley Lu Richar...   \n",
       "Sing                     Matthew McConaughey,Reese Witherspoon, Seth Ma...   \n",
       "Suicide Squad            Will Smith, Jared Leto, Margot Robbie, Viola D...   \n",
       "\n",
       "                         Year  Runtime (Minutes)  Rating   Votes  \\\n",
       "Title                                                              \n",
       "Guardians of the Galaxy  2014                121     8.1  757074   \n",
       "Prometheus               2012                124     7.0  485820   \n",
       "Split                    2016                117     7.3  157606   \n",
       "Sing                     2016                108     7.2   60545   \n",
       "Suicide Squad            2016                123     6.2  393727   \n",
       "\n",
       "                         Revenue (Millions)  Metascore  \n",
       "Title                                                   \n",
       "Guardians of the Galaxy              333.13       76.0  \n",
       "Prometheus                           126.46       65.0  \n",
       "Split                                138.12       62.0  \n",
       "Sing                                 270.32       59.0  \n",
       "Suicide Squad                        325.02       40.0  "
      ]
     },
     "execution_count": 4,
     "metadata": {},
     "output_type": "execute_result"
    }
   ],
   "source": [
    "df_IMDB_index = pd.read_csv(\"IMDB-Movie-Data.csv\",index_col=\"Title\")\n",
    "\n",
    "df_IMDB_index.head(5)"
   ]
  },
  {
   "cell_type": "markdown",
   "id": "1e243a82-21d6-44b3-8d78-74010f1d12bb",
   "metadata": {},
   "source": [
    "*Curiosamente o nosso dataframe tem uma coluna (rank) que ordena as nossas observações por um certo \"índice\" (1 a 1000).*"
   ]
  },
  {
   "cell_type": "markdown",
   "id": "d88375f2-ad37-4d49-bc08-b73648fe4c5f",
   "metadata": {},
   "source": [
    "---"
   ]
  },
  {
   "cell_type": "markdown",
   "id": "3a4f9cf1-ff5e-416a-a412-b63bb7025054",
   "metadata": {},
   "source": [
    "### Informações gerais do meu Dataframe\n",
    "* **.info()** - função que nos dá muita informação; type e shape da dataframe + índices, nulos e datatype das colunas"
   ]
  },
  {
   "cell_type": "code",
   "execution_count": 5,
   "id": "7393d56a-7b1f-4cef-b278-94220dc6452e",
   "metadata": {},
   "outputs": [
    {
     "name": "stdout",
     "output_type": "stream",
     "text": [
      "<class 'pandas.core.frame.DataFrame'>\n",
      "RangeIndex: 1000 entries, 0 to 999\n",
      "Data columns (total 12 columns):\n",
      " #   Column              Non-Null Count  Dtype  \n",
      "---  ------              --------------  -----  \n",
      " 0   Rank                1000 non-null   int64  \n",
      " 1   Title               1000 non-null   object \n",
      " 2   Genre               1000 non-null   object \n",
      " 3   Description         1000 non-null   object \n",
      " 4   Director            1000 non-null   object \n",
      " 5   Actors              1000 non-null   object \n",
      " 6   Year                1000 non-null   int64  \n",
      " 7   Runtime (Minutes)   1000 non-null   int64  \n",
      " 8   Rating              1000 non-null   float64\n",
      " 9   Votes               1000 non-null   int64  \n",
      " 10  Revenue (Millions)  872 non-null    float64\n",
      " 11  Metascore           936 non-null    float64\n",
      "dtypes: float64(3), int64(4), object(5)\n",
      "memory usage: 93.9+ KB\n"
     ]
    }
   ],
   "source": [
    "df_IMDB.info()"
   ]
  },
  {
   "cell_type": "markdown",
   "id": "13a6b246-e67a-4f48-833e-8b6d23fa132d",
   "metadata": {},
   "source": [
    "*Podemos observar que nas colunas \"Revenue\" e \"Metascore\" temos várias observações sem informação (onull) para estas colunas.*"
   ]
  },
  {
   "cell_type": "markdown",
   "id": "67bc76b0-711e-47f2-b848-819afeac1499",
   "metadata": {},
   "source": [
    "---"
   ]
  },
  {
   "cell_type": "markdown",
   "id": "c34d7651-3489-4835-8d77-65a5d54a6e87",
   "metadata": {},
   "source": [
    "### Confirmar se existem dados Duplicados\n",
    "* **.drop_duplicates()** - função que identifica e elimina as observações duplicadas (informações com dados iguais e gerados no mesmo momento).\n",
    "<p>Parâmetros:</p>\n",
    "<ul><li><strong>keep='first'</strong> - por defeito assume 'first', que mantém a informação da primeira observação duplicada e elimina os restantes.</li>\n",
    "<li><strong>keep='last'</strong> - quando queremos manter a informação da última observação duplicada e elimina as restantes.</li>\n",
    "<li><strong>inplace=False</strong> - por defeito assume False, não altera a própria dataframe, criar uma nova dataframe sem os duplicados;</li>\n",
    "<li><strong>inplace=True</strong> - quando queremos fazer esta alteração no dataframe, os duplicados são eliminados no próprio dataframe original.</li></ul>"
   ]
  },
  {
   "cell_type": "code",
   "execution_count": 6,
   "id": "84d40596-1442-4c35-b07c-9bfb9c1e49f7",
   "metadata": {},
   "outputs": [
    {
     "name": "stdout",
     "output_type": "stream",
     "text": [
      "<class 'pandas.core.frame.DataFrame'>\n",
      "RangeIndex: 1000 entries, 0 to 999\n",
      "Data columns (total 12 columns):\n",
      " #   Column              Non-Null Count  Dtype  \n",
      "---  ------              --------------  -----  \n",
      " 0   Rank                1000 non-null   int64  \n",
      " 1   Title               1000 non-null   object \n",
      " 2   Genre               1000 non-null   object \n",
      " 3   Description         1000 non-null   object \n",
      " 4   Director            1000 non-null   object \n",
      " 5   Actors              1000 non-null   object \n",
      " 6   Year                1000 non-null   int64  \n",
      " 7   Runtime (Minutes)   1000 non-null   int64  \n",
      " 8   Rating              1000 non-null   float64\n",
      " 9   Votes               1000 non-null   int64  \n",
      " 10  Revenue (Millions)  872 non-null    float64\n",
      " 11  Metascore           936 non-null    float64\n",
      "dtypes: float64(3), int64(4), object(5)\n",
      "memory usage: 93.9+ KB\n"
     ]
    }
   ],
   "source": [
    "#inplace=False\n",
    "df2_IMDB = df_IMDB.drop_duplicates()\n",
    "\n",
    "df2_IMDB.info()"
   ]
  },
  {
   "cell_type": "markdown",
   "id": "a12a2211-beb9-431d-a58f-32fdfc705fad",
   "metadata": {},
   "source": [
    "*Podemos observar que não houve alterações relativamente ao df_IMDB. Isto quer dizer que não temos nenhuma observação duplicada.*"
   ]
  },
  {
   "cell_type": "code",
   "execution_count": 7,
   "id": "9cb868ee-bdfb-402e-abc6-59a621913cf1",
   "metadata": {},
   "outputs": [
    {
     "name": "stdout",
     "output_type": "stream",
     "text": [
      "<class 'pandas.core.frame.DataFrame'>\n",
      "RangeIndex: 1000 entries, 0 to 999\n",
      "Data columns (total 12 columns):\n",
      " #   Column              Non-Null Count  Dtype  \n",
      "---  ------              --------------  -----  \n",
      " 0   Rank                1000 non-null   int64  \n",
      " 1   Title               1000 non-null   object \n",
      " 2   Genre               1000 non-null   object \n",
      " 3   Description         1000 non-null   object \n",
      " 4   Director            1000 non-null   object \n",
      " 5   Actors              1000 non-null   object \n",
      " 6   Year                1000 non-null   int64  \n",
      " 7   Runtime (Minutes)   1000 non-null   int64  \n",
      " 8   Rating              1000 non-null   float64\n",
      " 9   Votes               1000 non-null   int64  \n",
      " 10  Revenue (Millions)  872 non-null    float64\n",
      " 11  Metascore           936 non-null    float64\n",
      "dtypes: float64(3), int64(4), object(5)\n",
      "memory usage: 93.9+ KB\n"
     ]
    }
   ],
   "source": [
    "#inplace=True\n",
    "df_IMDB.drop_duplicates(inplace=True)\n",
    "\n",
    "df_IMDB.info()"
   ]
  },
  {
   "cell_type": "markdown",
   "id": "7e40abe4-7d35-4230-8df5-bb3fc6000e32",
   "metadata": {},
   "source": [
    "#### Concatenação\n",
    "* **.concat()** - função que permite a concatenação de duas dataframes, neste caso iguais.\n",
    "\n",
    "Desta forma estamos a duplicar as nossas observações e assim conseguimos identificar melhor o que a função **.drop_duplicates()** realiza."
   ]
  },
  {
   "cell_type": "code",
   "execution_count": 8,
   "id": "eb647fc5-893f-4e5e-a845-b6efd1f3067f",
   "metadata": {},
   "outputs": [
    {
     "name": "stdout",
     "output_type": "stream",
     "text": [
      "<class 'pandas.core.frame.DataFrame'>\n",
      "Index: 2000 entries, 0 to 999\n",
      "Data columns (total 12 columns):\n",
      " #   Column              Non-Null Count  Dtype  \n",
      "---  ------              --------------  -----  \n",
      " 0   Rank                2000 non-null   int64  \n",
      " 1   Title               2000 non-null   object \n",
      " 2   Genre               2000 non-null   object \n",
      " 3   Description         2000 non-null   object \n",
      " 4   Director            2000 non-null   object \n",
      " 5   Actors              2000 non-null   object \n",
      " 6   Year                2000 non-null   int64  \n",
      " 7   Runtime (Minutes)   2000 non-null   int64  \n",
      " 8   Rating              2000 non-null   float64\n",
      " 9   Votes               2000 non-null   int64  \n",
      " 10  Revenue (Millions)  1744 non-null   float64\n",
      " 11  Metascore           1872 non-null   float64\n",
      "dtypes: float64(3), int64(4), object(5)\n",
      "memory usage: 203.1+ KB\n"
     ]
    }
   ],
   "source": [
    "df2_IMBD = pd.concat([df_IMDB, df2_IMDB])\n",
    "df2_IMBD.info()"
   ]
  },
  {
   "cell_type": "markdown",
   "id": "c8f8005b-9a60-4043-b1bf-5ac3140413ae",
   "metadata": {},
   "source": [
    "*Podemos observar que temos 2000 observações, o dobro das iniciais. O df2_IMDB está agora com 1000 observações duplicadas. Vamos confirmar usando a função .drop_duplicates()*"
   ]
  },
  {
   "cell_type": "code",
   "execution_count": 9,
   "id": "90b53258-cb30-4906-8437-91e703a7bd98",
   "metadata": {},
   "outputs": [
    {
     "name": "stdout",
     "output_type": "stream",
     "text": [
      "<class 'pandas.core.frame.DataFrame'>\n",
      "RangeIndex: 1000 entries, 0 to 999\n",
      "Data columns (total 12 columns):\n",
      " #   Column              Non-Null Count  Dtype  \n",
      "---  ------              --------------  -----  \n",
      " 0   Rank                1000 non-null   int64  \n",
      " 1   Title               1000 non-null   object \n",
      " 2   Genre               1000 non-null   object \n",
      " 3   Description         1000 non-null   object \n",
      " 4   Director            1000 non-null   object \n",
      " 5   Actors              1000 non-null   object \n",
      " 6   Year                1000 non-null   int64  \n",
      " 7   Runtime (Minutes)   1000 non-null   int64  \n",
      " 8   Rating              1000 non-null   float64\n",
      " 9   Votes               1000 non-null   int64  \n",
      " 10  Revenue (Millions)  872 non-null    float64\n",
      " 11  Metascore           936 non-null    float64\n",
      "dtypes: float64(3), int64(4), object(5)\n",
      "memory usage: 93.9+ KB\n"
     ]
    }
   ],
   "source": [
    "#Utilizamos novamente a função .drop_duplicates() para voltarmos a uma df sem duplicados\n",
    "df2_IMDB.drop_duplicates(inplace=True)\n",
    "\n",
    "df2_IMDB.info()"
   ]
  },
  {
   "cell_type": "markdown",
   "id": "9be6fa19-bb97-4374-8ba6-05df0c50d1e3",
   "metadata": {},
   "source": [
    "*Podemos observar que voltamos a ter as 1000 observações, sem qualquer duplicação.*"
   ]
  },
  {
   "cell_type": "markdown",
   "id": "e2fc9392-ff92-4cca-8015-312d7adf2906",
   "metadata": {},
   "source": [
    "---"
   ]
  },
  {
   "cell_type": "markdown",
   "id": "6c168a2e-e734-40aa-bb44-0003a1d8e158",
   "metadata": {},
   "source": [
    "### Informações sobre as Colunas do nosso Dataframe\n",
    "* **.columns** - atributo que podemos consultar no nosso dataframe para observarmos todos os nomes das colunas deste."
   ]
  },
  {
   "cell_type": "code",
   "execution_count": 10,
   "id": "f83cbdd4-bf81-4c42-a8e8-7c955745e238",
   "metadata": {},
   "outputs": [
    {
     "data": {
      "text/plain": [
       "Index(['Rank', 'Title', 'Genre', 'Description', 'Director', 'Actors', 'Year',\n",
       "       'Runtime (Minutes)', 'Rating', 'Votes', 'Revenue (Millions)',\n",
       "       'Metascore'],\n",
       "      dtype='object')"
      ]
     },
     "execution_count": 10,
     "metadata": {},
     "output_type": "execute_result"
    }
   ],
   "source": [
    "df_IMDB.columns"
   ]
  },
  {
   "cell_type": "markdown",
   "id": "e3aae704-a7eb-4cf5-8c01-dffe747c239f",
   "metadata": {},
   "source": [
    "* **.rename()** - função que podemos utilizar para renomear o nome de uma ou mais colunas do nosso dataframe."
   ]
  },
  {
   "cell_type": "code",
   "execution_count": 11,
   "id": "89fa9c3c-2d68-4565-9bce-c0b222109636",
   "metadata": {},
   "outputs": [
    {
     "data": {
      "text/plain": [
       "Index(['Rank', 'Title', 'Genre', 'Description', 'Director', 'Actors', 'Year',\n",
       "       'Runtime', 'Rating', 'Votes', 'Revenue', 'Metascore'],\n",
       "      dtype='object')"
      ]
     },
     "execution_count": 11,
     "metadata": {},
     "output_type": "execute_result"
    }
   ],
   "source": [
    "#Alterar o nome de 2 colunas\n",
    "df_IMDB.rename(columns={\n",
    "    'Runtime (Minutes)': 'Runtime',\n",
    "    'Revenue (Millions)': 'Revenue' \n",
    "}, inplace=True)\n",
    "df_IMDB.columns"
   ]
  },
  {
   "cell_type": "markdown",
   "id": "dd6fe99a-dd14-4647-bc9e-cd4f9648a0c6",
   "metadata": {},
   "source": [
    "* **Maiúsculas vs Minúsculas** - podemos usar Python para converter os nomes das colunas para:\n",
    "<ul><li>maiúsculas - col.upper()</li>\n",
    "<li>minúsculas - col.lower()</li></ul>"
   ]
  },
  {
   "cell_type": "code",
   "execution_count": 12,
   "id": "bd70e2a3-f69d-4e40-aefe-6434c8b4d79c",
   "metadata": {},
   "outputs": [
    {
     "name": "stdout",
     "output_type": "stream",
     "text": [
      "Rank\n",
      "Title\n",
      "Genre\n",
      "Description\n",
      "Director\n",
      "Actors\n",
      "Year\n",
      "Runtime\n",
      "Rating\n",
      "Votes\n",
      "Revenue\n",
      "Metascore\n"
     ]
    }
   ],
   "source": [
    "#Podemos usar python para vermos o nome das nossas colunas\n",
    "for col in df_IMDB.columns:\n",
    "    print(col)"
   ]
  },
  {
   "cell_type": "code",
   "execution_count": 13,
   "id": "7d1ec847-c1da-4dcd-afc4-d16f8a6244b3",
   "metadata": {},
   "outputs": [
    {
     "name": "stdout",
     "output_type": "stream",
     "text": [
      "rank\n",
      "title\n",
      "genre\n",
      "description\n",
      "director\n",
      "actors\n",
      "year\n",
      "runtime\n",
      "rating\n",
      "votes\n",
      "revenue\n",
      "metascore\n"
     ]
    }
   ],
   "source": [
    "#Podemos usar python para colocarmos os nomes das colunas em minúsculas\n",
    "for col in df_IMDB.columns:\n",
    "    print(col.lower())"
   ]
  },
  {
   "cell_type": "code",
   "execution_count": 14,
   "id": "96604236-4793-4364-9fd4-d9d6a776b82d",
   "metadata": {},
   "outputs": [
    {
     "name": "stdout",
     "output_type": "stream",
     "text": [
      "RANK\n",
      "TITLE\n",
      "GENRE\n",
      "DESCRIPTION\n",
      "DIRECTOR\n",
      "ACTORS\n",
      "YEAR\n",
      "RUNTIME\n",
      "RATING\n",
      "VOTES\n",
      "REVENUE\n",
      "METASCORE\n"
     ]
    }
   ],
   "source": [
    "#Podemos usar python para colocarmos os nomes das colunas em maiúsculas\n",
    "for col in df_IMDB.columns:\n",
    "    print(col.upper())"
   ]
  },
  {
   "cell_type": "markdown",
   "id": "0dc9da6d-56b3-4b07-b4c4-f92eb71a5b6a",
   "metadata": {},
   "source": [
    "* **Alterar todos os nomes das colunas** - podemos usar Python para converter os nomes das colunas para maiúsculas e minúsculas, utilizando listas novas e ciclos for para alterarmos como quisermos os nossos nomes das colunas."
   ]
  },
  {
   "cell_type": "code",
   "execution_count": 15,
   "id": "91ce2626-0929-4553-8ea6-abc649500012",
   "metadata": {},
   "outputs": [
    {
     "name": "stdout",
     "output_type": "stream",
     "text": [
      "['rank', 'title', 'genre', 'description', 'director', 'actors', 'year', 'runtime', 'rating', 'votes', 'revenue', 'metascore']\n"
     ]
    },
    {
     "data": {
      "text/plain": [
       "Index(['rank', 'title', 'genre', 'description', 'director', 'actors', 'year',\n",
       "       'runtime', 'rating', 'votes', 'revenue', 'metascore'],\n",
       "      dtype='object')"
      ]
     },
     "execution_count": 15,
     "metadata": {},
     "output_type": "execute_result"
    }
   ],
   "source": [
    "#Criamos uma nova lista vazia que vamos povoar com os nomes das colunas em minísculas, através da função .append()\n",
    "novos_nomes = []\n",
    "for col in df_IMDB.columns:\n",
    "    novos_nomes.append(col.lower())\n",
    "print(novos_nomes)\n",
    "\n",
    "#Atribuimos à lista de nomes de colunas da nossa df, a lista de nomes criada com minúsculas\n",
    "df_IMDB.columns = novos_nomes\n",
    "df_IMDB.columns"
   ]
  },
  {
   "cell_type": "code",
   "execution_count": 16,
   "id": "cdbdabf9-9dd9-422a-babf-e486a8e1e22a",
   "metadata": {},
   "outputs": [
    {
     "name": "stdout",
     "output_type": "stream",
     "text": [
      "<class 'pandas.core.frame.DataFrame'>\n",
      "RangeIndex: 1000 entries, 0 to 999\n",
      "Data columns (total 12 columns):\n",
      " #   Column       Non-Null Count  Dtype  \n",
      "---  ------       --------------  -----  \n",
      " 0   rank         1000 non-null   int64  \n",
      " 1   title        1000 non-null   object \n",
      " 2   genre        1000 non-null   object \n",
      " 3   description  1000 non-null   object \n",
      " 4   director     1000 non-null   object \n",
      " 5   actors       1000 non-null   object \n",
      " 6   year         1000 non-null   int64  \n",
      " 7   runtime      1000 non-null   int64  \n",
      " 8   rating       1000 non-null   float64\n",
      " 9   votes        1000 non-null   int64  \n",
      " 10  revenue      872 non-null    float64\n",
      " 11  metascore    936 non-null    float64\n",
      "dtypes: float64(3), int64(4), object(5)\n",
      "memory usage: 93.9+ KB\n"
     ]
    }
   ],
   "source": [
    "#Confirmamos que a nossa df tem os nomes alterados para minúsculas\n",
    "df_IMDB.info()"
   ]
  },
  {
   "cell_type": "code",
   "execution_count": 17,
   "id": "61842e36-514f-462f-8a1f-bf429351fa49",
   "metadata": {},
   "outputs": [
    {
     "name": "stdout",
     "output_type": "stream",
     "text": [
      "<class 'pandas.core.frame.DataFrame'>\n",
      "RangeIndex: 1000 entries, 0 to 999\n",
      "Data columns (total 12 columns):\n",
      " #   Column       Non-Null Count  Dtype  \n",
      "---  ------       --------------  -----  \n",
      " 0   RANK         1000 non-null   int64  \n",
      " 1   TITLE        1000 non-null   object \n",
      " 2   GENRE        1000 non-null   object \n",
      " 3   DESCRIPTION  1000 non-null   object \n",
      " 4   DIRECTOR     1000 non-null   object \n",
      " 5   ACTORS       1000 non-null   object \n",
      " 6   YEAR         1000 non-null   int64  \n",
      " 7   RUNTIME      1000 non-null   int64  \n",
      " 8   RATING       1000 non-null   float64\n",
      " 9   VOTES        1000 non-null   int64  \n",
      " 10  REVENUE      872 non-null    float64\n",
      " 11  METASCORE    936 non-null    float64\n",
      "dtypes: float64(3), int64(4), object(5)\n",
      "memory usage: 93.9+ KB\n"
     ]
    }
   ],
   "source": [
    "#Outra opção com menos código, neste caso nomes colunas em maiúsculas:\n",
    "df_IMDB.columns = [col.upper() for col in df_IMDB.columns]\n",
    "df_IMDB.info()"
   ]
  },
  {
   "cell_type": "markdown",
   "id": "6056801d-d503-41c4-8604-0042c78b51f5",
   "metadata": {},
   "source": [
    "---"
   ]
  },
  {
   "cell_type": "markdown",
   "id": "517e87e9-13f1-482a-905d-f8c318eac3d4",
   "metadata": {},
   "source": [
    "### Dados nulos ou vazios\n",
    "* **.isnull()** - cria um novo dataframe onde realiza uma ação booleana sobre todos os campos de dados do nosso dataframe original, determinando se esses campos tem dados ou não.\n",
    "\n",
    "O que fazer com estes dados?\n",
    "\n",
    "Temos várias estratégias que devemos ponderar com o objetivo de purificar os meus dados e reduzir o meu erro de análise. Vamos produzir sempre um erro, mas a escolha da melhor estratégia tem como objetivo produzir um erro menor possível.\n",
    "\n",
    "A escolha de que estratégia escolher depende da minha análise ao dataframe, de como recolhi os dados, de como decorre o ambiente em que os dados são recolhidos, etc.\n",
    "\n",
    "* ***Estratégia de Eliminação/Remoção*** - elimino as observações todas em que faltam dados em determinada coluna.\n",
    "* ***Estratégia de Imputação*** - podemos usar a média/moda (um valor à nossa escolha, que pode ser calculado com base na dataframe toda ou em parcelas de dados desta), para atribuir aos campos das nossas observações sem valores (nulos ou vazios).\n"
   ]
  },
  {
   "cell_type": "code",
   "execution_count": 18,
   "id": "91927b85-304e-4f9f-81a0-53bb37dfb23c",
   "metadata": {},
   "outputs": [
    {
     "data": {
      "text/html": [
       "<div>\n",
       "<style scoped>\n",
       "    .dataframe tbody tr th:only-of-type {\n",
       "        vertical-align: middle;\n",
       "    }\n",
       "\n",
       "    .dataframe tbody tr th {\n",
       "        vertical-align: top;\n",
       "    }\n",
       "\n",
       "    .dataframe thead th {\n",
       "        text-align: right;\n",
       "    }\n",
       "</style>\n",
       "<table border=\"1\" class=\"dataframe\">\n",
       "  <thead>\n",
       "    <tr style=\"text-align: right;\">\n",
       "      <th></th>\n",
       "      <th>RANK</th>\n",
       "      <th>TITLE</th>\n",
       "      <th>GENRE</th>\n",
       "      <th>DESCRIPTION</th>\n",
       "      <th>DIRECTOR</th>\n",
       "      <th>ACTORS</th>\n",
       "      <th>YEAR</th>\n",
       "      <th>RUNTIME</th>\n",
       "      <th>RATING</th>\n",
       "      <th>VOTES</th>\n",
       "      <th>REVENUE</th>\n",
       "      <th>METASCORE</th>\n",
       "    </tr>\n",
       "  </thead>\n",
       "  <tbody>\n",
       "    <tr>\n",
       "      <th>0</th>\n",
       "      <td>False</td>\n",
       "      <td>False</td>\n",
       "      <td>False</td>\n",
       "      <td>False</td>\n",
       "      <td>False</td>\n",
       "      <td>False</td>\n",
       "      <td>False</td>\n",
       "      <td>False</td>\n",
       "      <td>False</td>\n",
       "      <td>False</td>\n",
       "      <td>False</td>\n",
       "      <td>False</td>\n",
       "    </tr>\n",
       "    <tr>\n",
       "      <th>1</th>\n",
       "      <td>False</td>\n",
       "      <td>False</td>\n",
       "      <td>False</td>\n",
       "      <td>False</td>\n",
       "      <td>False</td>\n",
       "      <td>False</td>\n",
       "      <td>False</td>\n",
       "      <td>False</td>\n",
       "      <td>False</td>\n",
       "      <td>False</td>\n",
       "      <td>False</td>\n",
       "      <td>False</td>\n",
       "    </tr>\n",
       "    <tr>\n",
       "      <th>2</th>\n",
       "      <td>False</td>\n",
       "      <td>False</td>\n",
       "      <td>False</td>\n",
       "      <td>False</td>\n",
       "      <td>False</td>\n",
       "      <td>False</td>\n",
       "      <td>False</td>\n",
       "      <td>False</td>\n",
       "      <td>False</td>\n",
       "      <td>False</td>\n",
       "      <td>False</td>\n",
       "      <td>False</td>\n",
       "    </tr>\n",
       "    <tr>\n",
       "      <th>3</th>\n",
       "      <td>False</td>\n",
       "      <td>False</td>\n",
       "      <td>False</td>\n",
       "      <td>False</td>\n",
       "      <td>False</td>\n",
       "      <td>False</td>\n",
       "      <td>False</td>\n",
       "      <td>False</td>\n",
       "      <td>False</td>\n",
       "      <td>False</td>\n",
       "      <td>False</td>\n",
       "      <td>False</td>\n",
       "    </tr>\n",
       "    <tr>\n",
       "      <th>4</th>\n",
       "      <td>False</td>\n",
       "      <td>False</td>\n",
       "      <td>False</td>\n",
       "      <td>False</td>\n",
       "      <td>False</td>\n",
       "      <td>False</td>\n",
       "      <td>False</td>\n",
       "      <td>False</td>\n",
       "      <td>False</td>\n",
       "      <td>False</td>\n",
       "      <td>False</td>\n",
       "      <td>False</td>\n",
       "    </tr>\n",
       "    <tr>\n",
       "      <th>...</th>\n",
       "      <td>...</td>\n",
       "      <td>...</td>\n",
       "      <td>...</td>\n",
       "      <td>...</td>\n",
       "      <td>...</td>\n",
       "      <td>...</td>\n",
       "      <td>...</td>\n",
       "      <td>...</td>\n",
       "      <td>...</td>\n",
       "      <td>...</td>\n",
       "      <td>...</td>\n",
       "      <td>...</td>\n",
       "    </tr>\n",
       "    <tr>\n",
       "      <th>995</th>\n",
       "      <td>False</td>\n",
       "      <td>False</td>\n",
       "      <td>False</td>\n",
       "      <td>False</td>\n",
       "      <td>False</td>\n",
       "      <td>False</td>\n",
       "      <td>False</td>\n",
       "      <td>False</td>\n",
       "      <td>False</td>\n",
       "      <td>False</td>\n",
       "      <td>True</td>\n",
       "      <td>False</td>\n",
       "    </tr>\n",
       "    <tr>\n",
       "      <th>996</th>\n",
       "      <td>False</td>\n",
       "      <td>False</td>\n",
       "      <td>False</td>\n",
       "      <td>False</td>\n",
       "      <td>False</td>\n",
       "      <td>False</td>\n",
       "      <td>False</td>\n",
       "      <td>False</td>\n",
       "      <td>False</td>\n",
       "      <td>False</td>\n",
       "      <td>False</td>\n",
       "      <td>False</td>\n",
       "    </tr>\n",
       "    <tr>\n",
       "      <th>997</th>\n",
       "      <td>False</td>\n",
       "      <td>False</td>\n",
       "      <td>False</td>\n",
       "      <td>False</td>\n",
       "      <td>False</td>\n",
       "      <td>False</td>\n",
       "      <td>False</td>\n",
       "      <td>False</td>\n",
       "      <td>False</td>\n",
       "      <td>False</td>\n",
       "      <td>False</td>\n",
       "      <td>False</td>\n",
       "    </tr>\n",
       "    <tr>\n",
       "      <th>998</th>\n",
       "      <td>False</td>\n",
       "      <td>False</td>\n",
       "      <td>False</td>\n",
       "      <td>False</td>\n",
       "      <td>False</td>\n",
       "      <td>False</td>\n",
       "      <td>False</td>\n",
       "      <td>False</td>\n",
       "      <td>False</td>\n",
       "      <td>False</td>\n",
       "      <td>True</td>\n",
       "      <td>False</td>\n",
       "    </tr>\n",
       "    <tr>\n",
       "      <th>999</th>\n",
       "      <td>False</td>\n",
       "      <td>False</td>\n",
       "      <td>False</td>\n",
       "      <td>False</td>\n",
       "      <td>False</td>\n",
       "      <td>False</td>\n",
       "      <td>False</td>\n",
       "      <td>False</td>\n",
       "      <td>False</td>\n",
       "      <td>False</td>\n",
       "      <td>False</td>\n",
       "      <td>False</td>\n",
       "    </tr>\n",
       "  </tbody>\n",
       "</table>\n",
       "<p>1000 rows × 12 columns</p>\n",
       "</div>"
      ],
      "text/plain": [
       "      RANK  TITLE  GENRE  DESCRIPTION  DIRECTOR  ACTORS   YEAR  RUNTIME  \\\n",
       "0    False  False  False        False     False   False  False    False   \n",
       "1    False  False  False        False     False   False  False    False   \n",
       "2    False  False  False        False     False   False  False    False   \n",
       "3    False  False  False        False     False   False  False    False   \n",
       "4    False  False  False        False     False   False  False    False   \n",
       "..     ...    ...    ...          ...       ...     ...    ...      ...   \n",
       "995  False  False  False        False     False   False  False    False   \n",
       "996  False  False  False        False     False   False  False    False   \n",
       "997  False  False  False        False     False   False  False    False   \n",
       "998  False  False  False        False     False   False  False    False   \n",
       "999  False  False  False        False     False   False  False    False   \n",
       "\n",
       "     RATING  VOTES  REVENUE  METASCORE  \n",
       "0     False  False    False      False  \n",
       "1     False  False    False      False  \n",
       "2     False  False    False      False  \n",
       "3     False  False    False      False  \n",
       "4     False  False    False      False  \n",
       "..      ...    ...      ...        ...  \n",
       "995   False  False     True      False  \n",
       "996   False  False    False      False  \n",
       "997   False  False    False      False  \n",
       "998   False  False     True      False  \n",
       "999   False  False    False      False  \n",
       "\n",
       "[1000 rows x 12 columns]"
      ]
     },
     "execution_count": 18,
     "metadata": {},
     "output_type": "execute_result"
    }
   ],
   "source": [
    "df_IMDB.isnull()"
   ]
  },
  {
   "cell_type": "code",
   "execution_count": 19,
   "id": "42ddbe68-44ef-4ba6-a20c-5a69e59d3461",
   "metadata": {},
   "outputs": [
    {
     "data": {
      "text/plain": [
       "RANK             0\n",
       "TITLE            0\n",
       "GENRE            0\n",
       "DESCRIPTION      0\n",
       "DIRECTOR         0\n",
       "ACTORS           0\n",
       "YEAR             0\n",
       "RUNTIME          0\n",
       "RATING           0\n",
       "VOTES            0\n",
       "REVENUE        128\n",
       "METASCORE       64\n",
       "dtype: int64"
      ]
     },
     "execution_count": 19,
     "metadata": {},
     "output_type": "execute_result"
    }
   ],
   "source": [
    "df_IMDB.isnull().sum()"
   ]
  },
  {
   "cell_type": "markdown",
   "id": "805f1b1a-6f00-4cfe-a586-01536ba34d8d",
   "metadata": {},
   "source": [
    "*Conseguimos concluir que temos 128 dados vazios na coluna 'REVENUE' e 64 na coluna 'METASCORE'.*"
   ]
  },
  {
   "cell_type": "markdown",
   "id": "b6f30d35-3cb5-4fdc-a940-94847eff5afa",
   "metadata": {},
   "source": [
    "* **.dropna()** - cria um novo dataframe onde remove todas as observações que tenham um ou mais campos vazios ou nulos em determinada coluna ou colunas.\n",
    "<ul><li><strong>axis=0</strong> - por defeito assume 0, elimina as observações que contenham campos vazios ou nulos.</li>\n",
    "<li><strong>axis=1</strong> - outra opção para eliminar colunas que contenham campos vaziosou nulos.</li></ul>"
   ]
  },
  {
   "cell_type": "code",
   "execution_count": 20,
   "id": "98a70551-aa05-44fa-850e-c9d72a68d2b8",
   "metadata": {},
   "outputs": [
    {
     "name": "stdout",
     "output_type": "stream",
     "text": [
      "<class 'pandas.core.frame.DataFrame'>\n",
      "Index: 838 entries, 0 to 999\n",
      "Data columns (total 12 columns):\n",
      " #   Column       Non-Null Count  Dtype  \n",
      "---  ------       --------------  -----  \n",
      " 0   RANK         838 non-null    int64  \n",
      " 1   TITLE        838 non-null    object \n",
      " 2   GENRE        838 non-null    object \n",
      " 3   DESCRIPTION  838 non-null    object \n",
      " 4   DIRECTOR     838 non-null    object \n",
      " 5   ACTORS       838 non-null    object \n",
      " 6   YEAR         838 non-null    int64  \n",
      " 7   RUNTIME      838 non-null    int64  \n",
      " 8   RATING       838 non-null    float64\n",
      " 9   VOTES        838 non-null    int64  \n",
      " 10  REVENUE      838 non-null    float64\n",
      " 11  METASCORE    838 non-null    float64\n",
      "dtypes: float64(3), int64(4), object(5)\n",
      "memory usage: 85.1+ KB\n"
     ]
    }
   ],
   "source": [
    "df2_IMDB = df_IMDB.dropna()\n",
    "df2_IMDB.info()"
   ]
  },
  {
   "cell_type": "markdown",
   "id": "86a5dc6d-40f1-45e9-aa45-8761975cadac",
   "metadata": {},
   "source": [
    "*Como podemos ver a função .dropna() eliminou 162 observações (alguns dos campos vazios nas duas colunas estavam em observações comuns).*\n",
    "\n",
    "*A nossa cópia df2_IMDB ficou com apenas 838 observações, enquanto a df_IMDB original tem 1000 observações.*"
   ]
  },
  {
   "cell_type": "code",
   "execution_count": 21,
   "id": "8592418b-fb10-4c37-be0f-a64cc97b82fa",
   "metadata": {},
   "outputs": [
    {
     "data": {
      "text/plain": [
       "(1000, 12)"
      ]
     },
     "execution_count": 21,
     "metadata": {},
     "output_type": "execute_result"
    }
   ],
   "source": [
    "df_IMDB.shape"
   ]
  },
  {
   "cell_type": "code",
   "execution_count": 22,
   "id": "5a507959-35ee-45c6-8bd0-af0e7d8841e4",
   "metadata": {},
   "outputs": [
    {
     "name": "stdout",
     "output_type": "stream",
     "text": [
      "<class 'pandas.core.frame.DataFrame'>\n",
      "RangeIndex: 1000 entries, 0 to 999\n",
      "Data columns (total 10 columns):\n",
      " #   Column       Non-Null Count  Dtype  \n",
      "---  ------       --------------  -----  \n",
      " 0   RANK         1000 non-null   int64  \n",
      " 1   TITLE        1000 non-null   object \n",
      " 2   GENRE        1000 non-null   object \n",
      " 3   DESCRIPTION  1000 non-null   object \n",
      " 4   DIRECTOR     1000 non-null   object \n",
      " 5   ACTORS       1000 non-null   object \n",
      " 6   YEAR         1000 non-null   int64  \n",
      " 7   RUNTIME      1000 non-null   int64  \n",
      " 8   RATING       1000 non-null   float64\n",
      " 9   VOTES        1000 non-null   int64  \n",
      "dtypes: float64(1), int64(4), object(5)\n",
      "memory usage: 78.2+ KB\n"
     ]
    }
   ],
   "source": [
    "#Elimino a coluna (axis=1) que tenha algum campo com valores vazios ou nulos\n",
    "df3_IMDB = df_IMDB.dropna(axis=1)\n",
    "df3_IMDB.info()"
   ]
  },
  {
   "cell_type": "markdown",
   "id": "afbb39ce-69a4-49c9-9828-e84ab1ef8ba7",
   "metadata": {},
   "source": [
    "*Eliminamos as colunas 'REVENUE' e 'METASCORE' que continham campos vazios.*"
   ]
  },
  {
   "cell_type": "markdown",
   "id": "b2684337-ca57-4d79-8e98-e15ebb9ef2b2",
   "metadata": {},
   "source": [
    "---"
   ]
  },
  {
   "cell_type": "markdown",
   "id": "eea3a81e-258d-4a0c-a01d-afa51fd50f4a",
   "metadata": {},
   "source": [
    "* **.describe()** - função que nos dá informações de estatísticas mais básicas do nosso dataframe.\n",
    "<ul><li><strong>média</strong> - é uma medida sensível aos valores da amostra, é mais adequada para situações em que os dados são distribuídos mais ou menos de forma uniforme, ou seja, valores sem grandes discrepâncias.</li>\n",
    "    <li><strong>std (desvio padrão)</strong> - expressa o quanto um conjunto de dados se desvia da média.</li>\n",
    "    <li><strong>1º Quartil 25%</strong> - 25% dos valores observados são menores ou iguais a este valor.</li>\n",
    "    <li><strong>2º Quartil 50% (mediana)</strong> - valor central de todos os dados observados (ou média dos dois valores centrais), 50% dos valores observados são menores ou iguais a este valor.</li>\n",
    "    <li><strong>3º Quartil 75%</strong> - 75% dos valores observados são menores ou iguais a este valor.</li></ul>"
   ]
  },
  {
   "cell_type": "code",
   "execution_count": 23,
   "id": "4e0a7316-ad12-491e-9925-99a370cb44ad",
   "metadata": {},
   "outputs": [
    {
     "data": {
      "text/html": [
       "<div>\n",
       "<style scoped>\n",
       "    .dataframe tbody tr th:only-of-type {\n",
       "        vertical-align: middle;\n",
       "    }\n",
       "\n",
       "    .dataframe tbody tr th {\n",
       "        vertical-align: top;\n",
       "    }\n",
       "\n",
       "    .dataframe thead th {\n",
       "        text-align: right;\n",
       "    }\n",
       "</style>\n",
       "<table border=\"1\" class=\"dataframe\">\n",
       "  <thead>\n",
       "    <tr style=\"text-align: right;\">\n",
       "      <th></th>\n",
       "      <th>RANK</th>\n",
       "      <th>YEAR</th>\n",
       "      <th>RUNTIME</th>\n",
       "      <th>RATING</th>\n",
       "      <th>VOTES</th>\n",
       "      <th>REVENUE</th>\n",
       "      <th>METASCORE</th>\n",
       "    </tr>\n",
       "  </thead>\n",
       "  <tbody>\n",
       "    <tr>\n",
       "      <th>count</th>\n",
       "      <td>1000.000000</td>\n",
       "      <td>1000.000000</td>\n",
       "      <td>1000.000000</td>\n",
       "      <td>1000.000000</td>\n",
       "      <td>1.000000e+03</td>\n",
       "      <td>872.000000</td>\n",
       "      <td>936.000000</td>\n",
       "    </tr>\n",
       "    <tr>\n",
       "      <th>mean</th>\n",
       "      <td>500.500000</td>\n",
       "      <td>2012.783000</td>\n",
       "      <td>113.172000</td>\n",
       "      <td>6.723200</td>\n",
       "      <td>1.698083e+05</td>\n",
       "      <td>82.956376</td>\n",
       "      <td>58.985043</td>\n",
       "    </tr>\n",
       "    <tr>\n",
       "      <th>std</th>\n",
       "      <td>288.819436</td>\n",
       "      <td>3.205962</td>\n",
       "      <td>18.810908</td>\n",
       "      <td>0.945429</td>\n",
       "      <td>1.887626e+05</td>\n",
       "      <td>103.253540</td>\n",
       "      <td>17.194757</td>\n",
       "    </tr>\n",
       "    <tr>\n",
       "      <th>min</th>\n",
       "      <td>1.000000</td>\n",
       "      <td>2006.000000</td>\n",
       "      <td>66.000000</td>\n",
       "      <td>1.900000</td>\n",
       "      <td>6.100000e+01</td>\n",
       "      <td>0.000000</td>\n",
       "      <td>11.000000</td>\n",
       "    </tr>\n",
       "    <tr>\n",
       "      <th>25%</th>\n",
       "      <td>250.750000</td>\n",
       "      <td>2010.000000</td>\n",
       "      <td>100.000000</td>\n",
       "      <td>6.200000</td>\n",
       "      <td>3.630900e+04</td>\n",
       "      <td>13.270000</td>\n",
       "      <td>47.000000</td>\n",
       "    </tr>\n",
       "    <tr>\n",
       "      <th>50%</th>\n",
       "      <td>500.500000</td>\n",
       "      <td>2014.000000</td>\n",
       "      <td>111.000000</td>\n",
       "      <td>6.800000</td>\n",
       "      <td>1.107990e+05</td>\n",
       "      <td>47.985000</td>\n",
       "      <td>59.500000</td>\n",
       "    </tr>\n",
       "    <tr>\n",
       "      <th>75%</th>\n",
       "      <td>750.250000</td>\n",
       "      <td>2016.000000</td>\n",
       "      <td>123.000000</td>\n",
       "      <td>7.400000</td>\n",
       "      <td>2.399098e+05</td>\n",
       "      <td>113.715000</td>\n",
       "      <td>72.000000</td>\n",
       "    </tr>\n",
       "    <tr>\n",
       "      <th>max</th>\n",
       "      <td>1000.000000</td>\n",
       "      <td>2016.000000</td>\n",
       "      <td>191.000000</td>\n",
       "      <td>9.000000</td>\n",
       "      <td>1.791916e+06</td>\n",
       "      <td>936.630000</td>\n",
       "      <td>100.000000</td>\n",
       "    </tr>\n",
       "  </tbody>\n",
       "</table>\n",
       "</div>"
      ],
      "text/plain": [
       "              RANK         YEAR      RUNTIME       RATING         VOTES  \\\n",
       "count  1000.000000  1000.000000  1000.000000  1000.000000  1.000000e+03   \n",
       "mean    500.500000  2012.783000   113.172000     6.723200  1.698083e+05   \n",
       "std     288.819436     3.205962    18.810908     0.945429  1.887626e+05   \n",
       "min       1.000000  2006.000000    66.000000     1.900000  6.100000e+01   \n",
       "25%     250.750000  2010.000000   100.000000     6.200000  3.630900e+04   \n",
       "50%     500.500000  2014.000000   111.000000     6.800000  1.107990e+05   \n",
       "75%     750.250000  2016.000000   123.000000     7.400000  2.399098e+05   \n",
       "max    1000.000000  2016.000000   191.000000     9.000000  1.791916e+06   \n",
       "\n",
       "          REVENUE   METASCORE  \n",
       "count  872.000000  936.000000  \n",
       "mean    82.956376   58.985043  \n",
       "std    103.253540   17.194757  \n",
       "min      0.000000   11.000000  \n",
       "25%     13.270000   47.000000  \n",
       "50%     47.985000   59.500000  \n",
       "75%    113.715000   72.000000  \n",
       "max    936.630000  100.000000  "
      ]
     },
     "execution_count": 23,
     "metadata": {},
     "output_type": "execute_result"
    }
   ],
   "source": [
    "df_IMDB.describe()"
   ]
  },
  {
   "cell_type": "code",
   "execution_count": 24,
   "id": "d50b48b2-40f7-461a-9b7d-47dac73efda7",
   "metadata": {},
   "outputs": [
    {
     "data": {
      "text/html": [
       "<div>\n",
       "<style scoped>\n",
       "    .dataframe tbody tr th:only-of-type {\n",
       "        vertical-align: middle;\n",
       "    }\n",
       "\n",
       "    .dataframe tbody tr th {\n",
       "        vertical-align: top;\n",
       "    }\n",
       "\n",
       "    .dataframe thead th {\n",
       "        text-align: right;\n",
       "    }\n",
       "</style>\n",
       "<table border=\"1\" class=\"dataframe\">\n",
       "  <thead>\n",
       "    <tr style=\"text-align: right;\">\n",
       "      <th></th>\n",
       "      <th>RANK</th>\n",
       "      <th>YEAR</th>\n",
       "      <th>RUNTIME</th>\n",
       "      <th>RATING</th>\n",
       "      <th>VOTES</th>\n",
       "      <th>REVENUE</th>\n",
       "      <th>METASCORE</th>\n",
       "    </tr>\n",
       "  </thead>\n",
       "  <tbody>\n",
       "    <tr>\n",
       "      <th>count</th>\n",
       "      <td>838.000000</td>\n",
       "      <td>838.00000</td>\n",
       "      <td>838.000000</td>\n",
       "      <td>838.000000</td>\n",
       "      <td>8.380000e+02</td>\n",
       "      <td>838.000000</td>\n",
       "      <td>838.000000</td>\n",
       "    </tr>\n",
       "    <tr>\n",
       "      <th>mean</th>\n",
       "      <td>485.247017</td>\n",
       "      <td>2012.50716</td>\n",
       "      <td>114.638425</td>\n",
       "      <td>6.814320</td>\n",
       "      <td>1.932303e+05</td>\n",
       "      <td>84.564558</td>\n",
       "      <td>59.575179</td>\n",
       "    </tr>\n",
       "    <tr>\n",
       "      <th>std</th>\n",
       "      <td>286.572065</td>\n",
       "      <td>3.17236</td>\n",
       "      <td>18.470922</td>\n",
       "      <td>0.877754</td>\n",
       "      <td>1.930990e+05</td>\n",
       "      <td>104.520227</td>\n",
       "      <td>16.952416</td>\n",
       "    </tr>\n",
       "    <tr>\n",
       "      <th>min</th>\n",
       "      <td>1.000000</td>\n",
       "      <td>2006.00000</td>\n",
       "      <td>66.000000</td>\n",
       "      <td>1.900000</td>\n",
       "      <td>1.780000e+02</td>\n",
       "      <td>0.000000</td>\n",
       "      <td>11.000000</td>\n",
       "    </tr>\n",
       "    <tr>\n",
       "      <th>25%</th>\n",
       "      <td>238.250000</td>\n",
       "      <td>2010.00000</td>\n",
       "      <td>101.000000</td>\n",
       "      <td>6.300000</td>\n",
       "      <td>6.127650e+04</td>\n",
       "      <td>13.967500</td>\n",
       "      <td>47.000000</td>\n",
       "    </tr>\n",
       "    <tr>\n",
       "      <th>50%</th>\n",
       "      <td>475.500000</td>\n",
       "      <td>2013.00000</td>\n",
       "      <td>112.000000</td>\n",
       "      <td>6.900000</td>\n",
       "      <td>1.368795e+05</td>\n",
       "      <td>48.150000</td>\n",
       "      <td>60.000000</td>\n",
       "    </tr>\n",
       "    <tr>\n",
       "      <th>75%</th>\n",
       "      <td>729.750000</td>\n",
       "      <td>2015.00000</td>\n",
       "      <td>124.000000</td>\n",
       "      <td>7.500000</td>\n",
       "      <td>2.710830e+05</td>\n",
       "      <td>116.800000</td>\n",
       "      <td>72.000000</td>\n",
       "    </tr>\n",
       "    <tr>\n",
       "      <th>max</th>\n",
       "      <td>1000.000000</td>\n",
       "      <td>2016.00000</td>\n",
       "      <td>187.000000</td>\n",
       "      <td>9.000000</td>\n",
       "      <td>1.791916e+06</td>\n",
       "      <td>936.630000</td>\n",
       "      <td>100.000000</td>\n",
       "    </tr>\n",
       "  </tbody>\n",
       "</table>\n",
       "</div>"
      ],
      "text/plain": [
       "              RANK        YEAR     RUNTIME      RATING         VOTES  \\\n",
       "count   838.000000   838.00000  838.000000  838.000000  8.380000e+02   \n",
       "mean    485.247017  2012.50716  114.638425    6.814320  1.932303e+05   \n",
       "std     286.572065     3.17236   18.470922    0.877754  1.930990e+05   \n",
       "min       1.000000  2006.00000   66.000000    1.900000  1.780000e+02   \n",
       "25%     238.250000  2010.00000  101.000000    6.300000  6.127650e+04   \n",
       "50%     475.500000  2013.00000  112.000000    6.900000  1.368795e+05   \n",
       "75%     729.750000  2015.00000  124.000000    7.500000  2.710830e+05   \n",
       "max    1000.000000  2016.00000  187.000000    9.000000  1.791916e+06   \n",
       "\n",
       "          REVENUE   METASCORE  \n",
       "count  838.000000  838.000000  \n",
       "mean    84.564558   59.575179  \n",
       "std    104.520227   16.952416  \n",
       "min      0.000000   11.000000  \n",
       "25%     13.967500   47.000000  \n",
       "50%     48.150000   60.000000  \n",
       "75%    116.800000   72.000000  \n",
       "max    936.630000  100.000000  "
      ]
     },
     "execution_count": 24,
     "metadata": {},
     "output_type": "execute_result"
    }
   ],
   "source": [
    "df2_IMDB.describe()"
   ]
  },
  {
   "cell_type": "markdown",
   "id": "53e4f1a3-d0b1-4d00-aff0-53d8ec8bf324",
   "metadata": {},
   "source": [
    "*Podemos identificar variações bastante significativas na média, desvio padrão, etc. depois de eliminar as observações com campos vazios.*"
   ]
  },
  {
   "cell_type": "markdown",
   "id": "0ca906fe-d28d-4af8-bb61-726cd12d0312",
   "metadata": {},
   "source": [
    "---"
   ]
  },
  {
   "cell_type": "markdown",
   "id": "a351d78a-9b56-460c-9410-b4637f4ca0d7",
   "metadata": {},
   "source": [
    "* **.mode()** - representa o valor mais frequente de um conjunto de dados, sendo assim, para defini-la basta observar a frequência com que os valores aparecem."
   ]
  },
  {
   "cell_type": "code",
   "execution_count": 25,
   "id": "a96a043a-a3b4-4502-88b2-101511393669",
   "metadata": {},
   "outputs": [
    {
     "data": {
      "text/plain": [
       "0    7.1\n",
       "Name: RATING, dtype: float64"
      ]
     },
     "execution_count": 25,
     "metadata": {},
     "output_type": "execute_result"
    }
   ],
   "source": [
    "#Podemos usar estas funções relativamente a uma coluna específica\n",
    "df_IMDB['RATING'].mode()"
   ]
  },
  {
   "cell_type": "markdown",
   "id": "0937d736-323b-4023-89d6-720976b75d7c",
   "metadata": {},
   "source": [
    "---"
   ]
  },
  {
   "cell_type": "markdown",
   "id": "24f30977-08cf-44c1-9832-9f10911a0d59",
   "metadata": {},
   "source": [
    "### Colunas"
   ]
  },
  {
   "cell_type": "code",
   "execution_count": 26,
   "id": "75c72546-9228-440b-9eb2-db4a3f95dfdf",
   "metadata": {},
   "outputs": [
    {
     "data": {
      "text/plain": [
       "0      8.1\n",
       "1      7.0\n",
       "2      7.3\n",
       "3      7.2\n",
       "4      6.2\n",
       "      ... \n",
       "995    6.2\n",
       "996    5.5\n",
       "997    6.2\n",
       "998    5.6\n",
       "999    5.3\n",
       "Name: RATING, Length: 1000, dtype: float64"
      ]
     },
     "execution_count": 26,
     "metadata": {},
     "output_type": "execute_result"
    }
   ],
   "source": [
    "df_IMDB['RATING']"
   ]
  },
  {
   "cell_type": "code",
   "execution_count": 27,
   "id": "bd40fd0d-159a-41d8-88c7-977bc2e0b995",
   "metadata": {},
   "outputs": [
    {
     "name": "stdout",
     "output_type": "stream",
     "text": [
      "<class 'pandas.core.series.Series'>\n",
      "RangeIndex: 1000 entries, 0 to 999\n",
      "Series name: RATING\n",
      "Non-Null Count  Dtype  \n",
      "--------------  -----  \n",
      "1000 non-null   float64\n",
      "dtypes: float64(1)\n",
      "memory usage: 7.9 KB\n"
     ]
    }
   ],
   "source": [
    "#Podemos usar estas funções relativamente a uma coluna específica\n",
    "df_IMDB['RATING'].info()"
   ]
  },
  {
   "cell_type": "code",
   "execution_count": 28,
   "id": "b8e1071f-802d-462a-9e32-1e9344ed35e3",
   "metadata": {},
   "outputs": [
    {
     "data": {
      "text/plain": [
       "count    1000.000000\n",
       "mean        6.723200\n",
       "std         0.945429\n",
       "min         1.900000\n",
       "25%         6.200000\n",
       "50%         6.800000\n",
       "75%         7.400000\n",
       "max         9.000000\n",
       "Name: RATING, dtype: float64"
      ]
     },
     "execution_count": 28,
     "metadata": {},
     "output_type": "execute_result"
    }
   ],
   "source": [
    "#Podemos usar estas funções relativamente a uma coluna específica\n",
    "df_IMDB['RATING'].describe()"
   ]
  },
  {
   "cell_type": "code",
   "execution_count": 29,
   "id": "be978088-d990-4386-950d-3b76c6fea5ac",
   "metadata": {},
   "outputs": [
    {
     "data": {
      "text/plain": [
       "0      333.13\n",
       "1      126.46\n",
       "2      138.12\n",
       "3      270.32\n",
       "4      325.02\n",
       "        ...  \n",
       "995       NaN\n",
       "996     17.54\n",
       "997     58.01\n",
       "998       NaN\n",
       "999     19.64\n",
       "Name: REVENUE, Length: 1000, dtype: float64"
      ]
     },
     "execution_count": 29,
     "metadata": {},
     "output_type": "execute_result"
    }
   ],
   "source": [
    "df_IMDB['REVENUE']"
   ]
  },
  {
   "cell_type": "code",
   "execution_count": 30,
   "id": "42a35b11-7a86-4688-aa8a-3f422a923b63",
   "metadata": {},
   "outputs": [
    {
     "name": "stdout",
     "output_type": "stream",
     "text": [
      "<class 'pandas.core.series.Series'>\n",
      "RangeIndex: 1000 entries, 0 to 999\n",
      "Series name: REVENUE\n",
      "Non-Null Count  Dtype  \n",
      "--------------  -----  \n",
      "872 non-null    float64\n",
      "dtypes: float64(1)\n",
      "memory usage: 7.9 KB\n"
     ]
    }
   ],
   "source": [
    "df_IMDB['REVENUE'].info()"
   ]
  },
  {
   "cell_type": "code",
   "execution_count": 31,
   "id": "000cd711-51c3-4d30-8523-deb723ae4a32",
   "metadata": {},
   "outputs": [
    {
     "data": {
      "text/plain": [
       "count    872.000000\n",
       "mean      82.956376\n",
       "std      103.253540\n",
       "min        0.000000\n",
       "25%       13.270000\n",
       "50%       47.985000\n",
       "75%      113.715000\n",
       "max      936.630000\n",
       "Name: REVENUE, dtype: float64"
      ]
     },
     "execution_count": 31,
     "metadata": {},
     "output_type": "execute_result"
    }
   ],
   "source": [
    "df_IMDB['REVENUE'].describe()"
   ]
  },
  {
   "cell_type": "markdown",
   "id": "4969c0fe-51ec-43cf-9e53-e471ef567ed3",
   "metadata": {},
   "source": [
    "*Normalmente o género do filme está bastante relacionado com a receita que este filme obterá.*\n",
    "\n",
    "*Poderia fazer sentido, optarmos pela média por género de forma a termos um valor com menor erro para incluirmos nos nossos valores nulos ou vazios.*"
   ]
  },
  {
   "cell_type": "code",
   "execution_count": 32,
   "id": "c3d0118b-7ce7-4691-b00f-4026960d7e19",
   "metadata": {},
   "outputs": [
    {
     "data": {
      "text/plain": [
       "count                        1000\n",
       "unique                        207\n",
       "top       Action,Adventure,Sci-Fi\n",
       "freq                           50\n",
       "Name: GENRE, dtype: object"
      ]
     },
     "execution_count": 32,
     "metadata": {},
     "output_type": "execute_result"
    }
   ],
   "source": [
    "df_IMDB['GENRE'].describe()"
   ]
  },
  {
   "cell_type": "code",
   "execution_count": 33,
   "id": "cb512024-7f45-4a7d-aa58-6d8a9b2da401",
   "metadata": {},
   "outputs": [
    {
     "data": {
      "text/plain": [
       "GENRE\n",
       "Action,Adventure,Sci-Fi    50\n",
       "Drama                      48\n",
       "Comedy,Drama,Romance       35\n",
       "Comedy                     32\n",
       "Drama,Romance              31\n",
       "                           ..\n",
       "Action,Comedy,Family        1\n",
       "Action,Crime,Fantasy        1\n",
       "Comedy,Mystery              1\n",
       "Adventure,Comedy,Horror     1\n",
       "Comedy,Family,Fantasy       1\n",
       "Name: count, Length: 207, dtype: int64"
      ]
     },
     "execution_count": 33,
     "metadata": {},
     "output_type": "execute_result"
    }
   ],
   "source": [
    "df_IMDB['GENRE'].value_counts()"
   ]
  },
  {
   "cell_type": "code",
   "execution_count": 34,
   "id": "e379b0fa-6986-417e-a139-7bb4ce9d223d",
   "metadata": {},
   "outputs": [
    {
     "data": {
      "text/plain": [
       "50"
      ]
     },
     "execution_count": 34,
     "metadata": {},
     "output_type": "execute_result"
    }
   ],
   "source": [
    "#Número de observações com o \"sub-género\" 'Action,Adventure,Sci-Fi'\n",
    "df_IMDB['GENRE'].value_counts()['Action,Adventure,Sci-Fi']"
   ]
  },
  {
   "cell_type": "code",
   "execution_count": 35,
   "id": "c354133e-843a-406c-88e6-442128284254",
   "metadata": {},
   "outputs": [
    {
     "data": {
      "text/html": [
       "<div>\n",
       "<style scoped>\n",
       "    .dataframe tbody tr th:only-of-type {\n",
       "        vertical-align: middle;\n",
       "    }\n",
       "\n",
       "    .dataframe tbody tr th {\n",
       "        vertical-align: top;\n",
       "    }\n",
       "\n",
       "    .dataframe thead th {\n",
       "        text-align: right;\n",
       "    }\n",
       "</style>\n",
       "<table border=\"1\" class=\"dataframe\">\n",
       "  <thead>\n",
       "    <tr style=\"text-align: right;\">\n",
       "      <th></th>\n",
       "      <th>RANK</th>\n",
       "      <th>TITLE</th>\n",
       "      <th>GENRE</th>\n",
       "      <th>DESCRIPTION</th>\n",
       "      <th>DIRECTOR</th>\n",
       "      <th>ACTORS</th>\n",
       "      <th>YEAR</th>\n",
       "      <th>RUNTIME</th>\n",
       "      <th>RATING</th>\n",
       "      <th>VOTES</th>\n",
       "      <th>REVENUE</th>\n",
       "      <th>METASCORE</th>\n",
       "    </tr>\n",
       "  </thead>\n",
       "  <tbody>\n",
       "    <tr>\n",
       "      <th>386</th>\n",
       "      <td>387</td>\n",
       "      <td>Pixels</td>\n",
       "      <td>Action,Comedy,Family</td>\n",
       "      <td>When aliens misinterpret video feeds of classi...</td>\n",
       "      <td>Chris Columbus</td>\n",
       "      <td>Adam Sandler, Kevin James, Michelle Monaghan,P...</td>\n",
       "      <td>2015</td>\n",
       "      <td>105</td>\n",
       "      <td>5.6</td>\n",
       "      <td>101092</td>\n",
       "      <td>78.75</td>\n",
       "      <td>27.0</td>\n",
       "    </tr>\n",
       "  </tbody>\n",
       "</table>\n",
       "</div>"
      ],
      "text/plain": [
       "     RANK   TITLE                 GENRE  \\\n",
       "386   387  Pixels  Action,Comedy,Family   \n",
       "\n",
       "                                           DESCRIPTION        DIRECTOR  \\\n",
       "386  When aliens misinterpret video feeds of classi...  Chris Columbus   \n",
       "\n",
       "                                                ACTORS  YEAR  RUNTIME  RATING  \\\n",
       "386  Adam Sandler, Kevin James, Michelle Monaghan,P...  2015      105     5.6   \n",
       "\n",
       "      VOTES  REVENUE  METASCORE  \n",
       "386  101092    78.75       27.0  "
      ]
     },
     "execution_count": 35,
     "metadata": {},
     "output_type": "execute_result"
    }
   ],
   "source": [
    "#Obtermos a observação/ões que tem o genre igual a 'Action,Comedy,Family'\n",
    "df_IMDB[df_IMDB['GENRE'] == 'Action,Comedy,Family']"
   ]
  },
  {
   "cell_type": "code",
   "execution_count": 36,
   "id": "32a09dcb-2d0a-4a55-bc99-c4c9b106f292",
   "metadata": {},
   "outputs": [
    {
     "data": {
      "text/html": [
       "<div>\n",
       "<style scoped>\n",
       "    .dataframe tbody tr th:only-of-type {\n",
       "        vertical-align: middle;\n",
       "    }\n",
       "\n",
       "    .dataframe tbody tr th {\n",
       "        vertical-align: top;\n",
       "    }\n",
       "\n",
       "    .dataframe thead th {\n",
       "        text-align: right;\n",
       "    }\n",
       "</style>\n",
       "<table border=\"1\" class=\"dataframe\">\n",
       "  <thead>\n",
       "    <tr style=\"text-align: right;\">\n",
       "      <th></th>\n",
       "      <th>RANK</th>\n",
       "      <th>TITLE</th>\n",
       "      <th>GENRE</th>\n",
       "      <th>DESCRIPTION</th>\n",
       "      <th>DIRECTOR</th>\n",
       "      <th>ACTORS</th>\n",
       "      <th>YEAR</th>\n",
       "      <th>RUNTIME</th>\n",
       "      <th>RATING</th>\n",
       "      <th>VOTES</th>\n",
       "      <th>REVENUE</th>\n",
       "      <th>METASCORE</th>\n",
       "    </tr>\n",
       "  </thead>\n",
       "  <tbody>\n",
       "    <tr>\n",
       "      <th>231</th>\n",
       "      <td>232</td>\n",
       "      <td>A Kind of Murder</td>\n",
       "      <td>Crime,Drama,Thriller</td>\n",
       "      <td>In 1960s New York, Walter Stackhouse is a succ...</td>\n",
       "      <td>Andy Goddard</td>\n",
       "      <td>Patrick Wilson, Jessica Biel, Haley Bennett, V...</td>\n",
       "      <td>2016</td>\n",
       "      <td>95</td>\n",
       "      <td>5.2</td>\n",
       "      <td>3305</td>\n",
       "      <td>0.0</td>\n",
       "      <td>50.0</td>\n",
       "    </tr>\n",
       "  </tbody>\n",
       "</table>\n",
       "</div>"
      ],
      "text/plain": [
       "     RANK             TITLE                 GENRE  \\\n",
       "231   232  A Kind of Murder  Crime,Drama,Thriller   \n",
       "\n",
       "                                           DESCRIPTION      DIRECTOR  \\\n",
       "231  In 1960s New York, Walter Stackhouse is a succ...  Andy Goddard   \n",
       "\n",
       "                                                ACTORS  YEAR  RUNTIME  RATING  \\\n",
       "231  Patrick Wilson, Jessica Biel, Haley Bennett, V...  2016       95     5.2   \n",
       "\n",
       "     VOTES  REVENUE  METASCORE  \n",
       "231   3305      0.0       50.0  "
      ]
     },
     "execution_count": 36,
     "metadata": {},
     "output_type": "execute_result"
    }
   ],
   "source": [
    "#Observação que tem um 'revenue' igual a zero\n",
    "df_IMDB[df_IMDB['REVENUE'] == 0]"
   ]
  },
  {
   "cell_type": "markdown",
   "id": "1b1def3c-9257-43e8-b7f3-b9dc42501cb4",
   "metadata": {},
   "source": [
    "**NOTA:**\n",
    "\n",
    "Neste momento, temos que analisar se este número '0' é um valor real ou se se trata de um erro!!\n",
    "\n",
    "Neste tipo de configurações temos que questionar e, eventualmente, voltar atrás no processo de recolha/aquisição de dados, caso se tenha verificado em mais situações."
   ]
  },
  {
   "cell_type": "markdown",
   "id": "508fc695-7b1f-480a-94b7-d958347d91c3",
   "metadata": {},
   "source": [
    "---"
   ]
  },
  {
   "cell_type": "markdown",
   "id": "e6adb684-3d13-40c4-9b71-ba98a811032c",
   "metadata": {},
   "source": [
    "### Estratégia de Imputação"
   ]
  },
  {
   "cell_type": "code",
   "execution_count": 37,
   "id": "33e4805f-ecb5-4308-bf06-c07ff5aac50c",
   "metadata": {},
   "outputs": [],
   "source": [
    "#Criamos uma variável que aponta para a coluna revenue da df original\n",
    "df_revenue = df_IMDB['REVENUE']"
   ]
  },
  {
   "cell_type": "code",
   "execution_count": 38,
   "id": "0fda440b-66ad-4265-bd47-34b0afb96c1d",
   "metadata": {},
   "outputs": [
    {
     "data": {
      "text/plain": [
       "82.95637614678898"
      ]
     },
     "execution_count": 38,
     "metadata": {},
     "output_type": "execute_result"
    }
   ],
   "source": [
    "revenue_mean = df_revenue.mean()\n",
    "revenue_mean"
   ]
  },
  {
   "cell_type": "code",
   "execution_count": 39,
   "id": "a39a922d-3235-4136-a9b2-a18c94f85f0a",
   "metadata": {},
   "outputs": [
    {
     "data": {
      "text/plain": [
       "RANK             0\n",
       "TITLE            0\n",
       "GENRE            0\n",
       "DESCRIPTION      0\n",
       "DIRECTOR         0\n",
       "ACTORS           0\n",
       "YEAR             0\n",
       "RUNTIME          0\n",
       "RATING           0\n",
       "VOTES            0\n",
       "REVENUE        128\n",
       "METASCORE       64\n",
       "dtype: int64"
      ]
     },
     "execution_count": 39,
     "metadata": {},
     "output_type": "execute_result"
    }
   ],
   "source": [
    "#Voltamos a verificar onde estão os valores vazios e quantos são\n",
    "df_IMDB.isna().sum()"
   ]
  },
  {
   "cell_type": "markdown",
   "id": "ad588c00-d2cd-427a-aff5-b1d8ee8a0fd5",
   "metadata": {},
   "source": [
    "* **.fillna()** - substituimos os valores vazios por um novo valor"
   ]
  },
  {
   "cell_type": "code",
   "execution_count": 40,
   "id": "f0fb9b14-a8b6-46e1-aae1-1f4b83711c16",
   "metadata": {},
   "outputs": [
    {
     "data": {
      "text/plain": [
       "RANK            0\n",
       "TITLE           0\n",
       "GENRE           0\n",
       "DESCRIPTION     0\n",
       "DIRECTOR        0\n",
       "ACTORS          0\n",
       "YEAR            0\n",
       "RUNTIME         0\n",
       "RATING          0\n",
       "VOTES           0\n",
       "REVENUE         0\n",
       "METASCORE      64\n",
       "dtype: int64"
      ]
     },
     "execution_count": 40,
     "metadata": {},
     "output_type": "execute_result"
    }
   ],
   "source": [
    "#Substituimos os valores vazios com a média dos valores observados na coluna revenue\n",
    "#Como fazemos inplace=True vamos alterar a df original\n",
    "#Se colocarmos inplace=False, criaria uma cópia da coluna com as alterações na variável revenue\n",
    "df_revenue.fillna(revenue_mean, inplace=True)\n",
    "\n",
    "df_IMDB.isna().sum()"
   ]
  },
  {
   "cell_type": "markdown",
   "id": "40a5452d-6124-4122-8778-33221d51e3f4",
   "metadata": {},
   "source": [
    "---"
   ]
  },
  {
   "cell_type": "markdown",
   "id": "090fa3d6-e285-4422-8ecc-4f44abcb68fa",
   "metadata": {},
   "source": [
    "### Correlações entre variáveis\n",
    "* **.corr()** - obter uma nova dataframe com as correlações entre as variáveis da nossa dataframe inicial. Pertende saber se há comportamentos semelhantes entre as variáveis. Quanto mais próximo de 1 ou -1 o coeficente de correlação é, mais forte é a sua correlação.\n",
    "<ul><li><strong>numeric_only=False</strong> - por defeito assume False, apenas inclui float, int ou booleano.</li>\n",
    "<li><strong>numeric_only=True</strong> - para obtermos essa correlação entre variáveis de todos os tipos de dados, inclusive strings.</li>"
   ]
  },
  {
   "cell_type": "code",
   "execution_count": 47,
   "id": "94f5428c-75f9-4686-83ef-dd4324753175",
   "metadata": {},
   "outputs": [
    {
     "data": {
      "text/html": [
       "<div>\n",
       "<style scoped>\n",
       "    .dataframe tbody tr th:only-of-type {\n",
       "        vertical-align: middle;\n",
       "    }\n",
       "\n",
       "    .dataframe tbody tr th {\n",
       "        vertical-align: top;\n",
       "    }\n",
       "\n",
       "    .dataframe thead th {\n",
       "        text-align: right;\n",
       "    }\n",
       "</style>\n",
       "<table border=\"1\" class=\"dataframe\">\n",
       "  <thead>\n",
       "    <tr style=\"text-align: right;\">\n",
       "      <th></th>\n",
       "      <th>RANK</th>\n",
       "      <th>YEAR</th>\n",
       "      <th>RUNTIME</th>\n",
       "      <th>RATING</th>\n",
       "      <th>VOTES</th>\n",
       "      <th>REVENUE</th>\n",
       "      <th>METASCORE</th>\n",
       "    </tr>\n",
       "  </thead>\n",
       "  <tbody>\n",
       "    <tr>\n",
       "      <th>RANK</th>\n",
       "      <td>1.000000</td>\n",
       "      <td>-0.261605</td>\n",
       "      <td>-0.221739</td>\n",
       "      <td>-0.219555</td>\n",
       "      <td>-0.283876</td>\n",
       "      <td>-0.252996</td>\n",
       "      <td>-0.191869</td>\n",
       "    </tr>\n",
       "    <tr>\n",
       "      <th>YEAR</th>\n",
       "      <td>-0.261605</td>\n",
       "      <td>1.000000</td>\n",
       "      <td>-0.164900</td>\n",
       "      <td>-0.211219</td>\n",
       "      <td>-0.411904</td>\n",
       "      <td>-0.117562</td>\n",
       "      <td>-0.079305</td>\n",
       "    </tr>\n",
       "    <tr>\n",
       "      <th>RUNTIME</th>\n",
       "      <td>-0.221739</td>\n",
       "      <td>-0.164900</td>\n",
       "      <td>1.000000</td>\n",
       "      <td>0.392214</td>\n",
       "      <td>0.407062</td>\n",
       "      <td>0.247834</td>\n",
       "      <td>0.211978</td>\n",
       "    </tr>\n",
       "    <tr>\n",
       "      <th>RATING</th>\n",
       "      <td>-0.219555</td>\n",
       "      <td>-0.211219</td>\n",
       "      <td>0.392214</td>\n",
       "      <td>1.000000</td>\n",
       "      <td>0.511537</td>\n",
       "      <td>0.189527</td>\n",
       "      <td>0.631897</td>\n",
       "    </tr>\n",
       "    <tr>\n",
       "      <th>VOTES</th>\n",
       "      <td>-0.283876</td>\n",
       "      <td>-0.411904</td>\n",
       "      <td>0.407062</td>\n",
       "      <td>0.511537</td>\n",
       "      <td>1.000000</td>\n",
       "      <td>0.607941</td>\n",
       "      <td>0.325684</td>\n",
       "    </tr>\n",
       "    <tr>\n",
       "      <th>REVENUE</th>\n",
       "      <td>-0.252996</td>\n",
       "      <td>-0.117562</td>\n",
       "      <td>0.247834</td>\n",
       "      <td>0.189527</td>\n",
       "      <td>0.607941</td>\n",
       "      <td>1.000000</td>\n",
       "      <td>0.133328</td>\n",
       "    </tr>\n",
       "    <tr>\n",
       "      <th>METASCORE</th>\n",
       "      <td>-0.191869</td>\n",
       "      <td>-0.079305</td>\n",
       "      <td>0.211978</td>\n",
       "      <td>0.631897</td>\n",
       "      <td>0.325684</td>\n",
       "      <td>0.133328</td>\n",
       "      <td>1.000000</td>\n",
       "    </tr>\n",
       "  </tbody>\n",
       "</table>\n",
       "</div>"
      ],
      "text/plain": [
       "               RANK      YEAR   RUNTIME    RATING     VOTES   REVENUE  \\\n",
       "RANK       1.000000 -0.261605 -0.221739 -0.219555 -0.283876 -0.252996   \n",
       "YEAR      -0.261605  1.000000 -0.164900 -0.211219 -0.411904 -0.117562   \n",
       "RUNTIME   -0.221739 -0.164900  1.000000  0.392214  0.407062  0.247834   \n",
       "RATING    -0.219555 -0.211219  0.392214  1.000000  0.511537  0.189527   \n",
       "VOTES     -0.283876 -0.411904  0.407062  0.511537  1.000000  0.607941   \n",
       "REVENUE   -0.252996 -0.117562  0.247834  0.189527  0.607941  1.000000   \n",
       "METASCORE -0.191869 -0.079305  0.211978  0.631897  0.325684  0.133328   \n",
       "\n",
       "           METASCORE  \n",
       "RANK       -0.191869  \n",
       "YEAR       -0.079305  \n",
       "RUNTIME     0.211978  \n",
       "RATING      0.631897  \n",
       "VOTES       0.325684  \n",
       "REVENUE     0.133328  \n",
       "METASCORE   1.000000  "
      ]
     },
     "execution_count": 47,
     "metadata": {},
     "output_type": "execute_result"
    }
   ],
   "source": [
    "df_IMDB.corr(numeric_only=True)"
   ]
  },
  {
   "cell_type": "markdown",
   "id": "bc55cf4b-9041-4002-965b-d3578a8786a7",
   "metadata": {},
   "source": [
    "---"
   ]
  },
  {
   "cell_type": "markdown",
   "id": "2ff82c11-bf00-4c7e-b07a-00d8fe545762",
   "metadata": {},
   "source": [
    "### Construir um sub-dataframe a partir do dataframe original"
   ]
  },
  {
   "cell_type": "code",
   "execution_count": 48,
   "id": "973ed8b0-3ac5-4514-bb72-d998297ec90d",
   "metadata": {},
   "outputs": [
    {
     "data": {
      "text/html": [
       "<div>\n",
       "<style scoped>\n",
       "    .dataframe tbody tr th:only-of-type {\n",
       "        vertical-align: middle;\n",
       "    }\n",
       "\n",
       "    .dataframe tbody tr th {\n",
       "        vertical-align: top;\n",
       "    }\n",
       "\n",
       "    .dataframe thead th {\n",
       "        text-align: right;\n",
       "    }\n",
       "</style>\n",
       "<table border=\"1\" class=\"dataframe\">\n",
       "  <thead>\n",
       "    <tr style=\"text-align: right;\">\n",
       "      <th></th>\n",
       "      <th>RANK</th>\n",
       "      <th>VOTES</th>\n",
       "    </tr>\n",
       "  </thead>\n",
       "  <tbody>\n",
       "    <tr>\n",
       "      <th>0</th>\n",
       "      <td>1</td>\n",
       "      <td>757074</td>\n",
       "    </tr>\n",
       "    <tr>\n",
       "      <th>1</th>\n",
       "      <td>2</td>\n",
       "      <td>485820</td>\n",
       "    </tr>\n",
       "    <tr>\n",
       "      <th>2</th>\n",
       "      <td>3</td>\n",
       "      <td>157606</td>\n",
       "    </tr>\n",
       "    <tr>\n",
       "      <th>3</th>\n",
       "      <td>4</td>\n",
       "      <td>60545</td>\n",
       "    </tr>\n",
       "    <tr>\n",
       "      <th>4</th>\n",
       "      <td>5</td>\n",
       "      <td>393727</td>\n",
       "    </tr>\n",
       "    <tr>\n",
       "      <th>...</th>\n",
       "      <td>...</td>\n",
       "      <td>...</td>\n",
       "    </tr>\n",
       "    <tr>\n",
       "      <th>995</th>\n",
       "      <td>996</td>\n",
       "      <td>27585</td>\n",
       "    </tr>\n",
       "    <tr>\n",
       "      <th>996</th>\n",
       "      <td>997</td>\n",
       "      <td>73152</td>\n",
       "    </tr>\n",
       "    <tr>\n",
       "      <th>997</th>\n",
       "      <td>998</td>\n",
       "      <td>70699</td>\n",
       "    </tr>\n",
       "    <tr>\n",
       "      <th>998</th>\n",
       "      <td>999</td>\n",
       "      <td>4881</td>\n",
       "    </tr>\n",
       "    <tr>\n",
       "      <th>999</th>\n",
       "      <td>1000</td>\n",
       "      <td>12435</td>\n",
       "    </tr>\n",
       "  </tbody>\n",
       "</table>\n",
       "<p>1000 rows × 2 columns</p>\n",
       "</div>"
      ],
      "text/plain": [
       "     RANK   VOTES\n",
       "0       1  757074\n",
       "1       2  485820\n",
       "2       3  157606\n",
       "3       4   60545\n",
       "4       5  393727\n",
       "..    ...     ...\n",
       "995   996   27585\n",
       "996   997   73152\n",
       "997   998   70699\n",
       "998   999    4881\n",
       "999  1000   12435\n",
       "\n",
       "[1000 rows x 2 columns]"
      ]
     },
     "execution_count": 48,
     "metadata": {},
     "output_type": "execute_result"
    }
   ],
   "source": [
    "df_IMDB[['RANK', 'VOTES']]"
   ]
  },
  {
   "cell_type": "code",
   "execution_count": 49,
   "id": "0597cade-3d94-490c-a793-a3fb66931421",
   "metadata": {},
   "outputs": [
    {
     "data": {
      "text/plain": [
       "0         1\n",
       "1         2\n",
       "2         3\n",
       "3         4\n",
       "4         5\n",
       "       ... \n",
       "995     996\n",
       "996     997\n",
       "997     998\n",
       "998     999\n",
       "999    1000\n",
       "Name: RANK, Length: 1000, dtype: int64"
      ]
     },
     "execution_count": 49,
     "metadata": {},
     "output_type": "execute_result"
    }
   ],
   "source": [
    "#Isolar apenas uma coluna ou série\n",
    "df_IMDB['RANK']"
   ]
  },
  {
   "cell_type": "markdown",
   "id": "f293bf1a-f1b5-4cf7-84d1-1a76004d53d0",
   "metadata": {},
   "source": [
    "---"
   ]
  },
  {
   "cell_type": "markdown",
   "id": "dc2105a4-3716-4ae0-a265-616104425080",
   "metadata": {},
   "source": [
    "* **.set_index()** - conseguimos defenir o nosso index como uma coluna específica."
   ]
  },
  {
   "cell_type": "code",
   "execution_count": 61,
   "id": "9ec20dd7-65d3-4708-9d43-ee2e6040c466",
   "metadata": {},
   "outputs": [
    {
     "data": {
      "text/html": [
       "<div>\n",
       "<style scoped>\n",
       "    .dataframe tbody tr th:only-of-type {\n",
       "        vertical-align: middle;\n",
       "    }\n",
       "\n",
       "    .dataframe tbody tr th {\n",
       "        vertical-align: top;\n",
       "    }\n",
       "\n",
       "    .dataframe thead th {\n",
       "        text-align: right;\n",
       "    }\n",
       "</style>\n",
       "<table border=\"1\" class=\"dataframe\">\n",
       "  <thead>\n",
       "    <tr style=\"text-align: right;\">\n",
       "      <th></th>\n",
       "      <th>RANK</th>\n",
       "      <th>GENRE</th>\n",
       "      <th>DESCRIPTION</th>\n",
       "      <th>DIRECTOR</th>\n",
       "      <th>ACTORS</th>\n",
       "      <th>YEAR</th>\n",
       "      <th>RUNTIME</th>\n",
       "      <th>RATING</th>\n",
       "      <th>VOTES</th>\n",
       "      <th>REVENUE</th>\n",
       "      <th>METASCORE</th>\n",
       "    </tr>\n",
       "    <tr>\n",
       "      <th>TITLE</th>\n",
       "      <th></th>\n",
       "      <th></th>\n",
       "      <th></th>\n",
       "      <th></th>\n",
       "      <th></th>\n",
       "      <th></th>\n",
       "      <th></th>\n",
       "      <th></th>\n",
       "      <th></th>\n",
       "      <th></th>\n",
       "      <th></th>\n",
       "    </tr>\n",
       "  </thead>\n",
       "  <tbody>\n",
       "    <tr>\n",
       "      <th>Guardians of the Galaxy</th>\n",
       "      <td>1</td>\n",
       "      <td>Action,Adventure,Sci-Fi</td>\n",
       "      <td>A group of intergalactic criminals are forced ...</td>\n",
       "      <td>James Gunn</td>\n",
       "      <td>Chris Pratt, Vin Diesel, Bradley Cooper, Zoe S...</td>\n",
       "      <td>2014</td>\n",
       "      <td>121</td>\n",
       "      <td>8.1</td>\n",
       "      <td>757074</td>\n",
       "      <td>333.130000</td>\n",
       "      <td>76.0</td>\n",
       "    </tr>\n",
       "    <tr>\n",
       "      <th>Prometheus</th>\n",
       "      <td>2</td>\n",
       "      <td>Adventure,Mystery,Sci-Fi</td>\n",
       "      <td>Following clues to the origin of mankind, a te...</td>\n",
       "      <td>Ridley Scott</td>\n",
       "      <td>Noomi Rapace, Logan Marshall-Green, Michael Fa...</td>\n",
       "      <td>2012</td>\n",
       "      <td>124</td>\n",
       "      <td>7.0</td>\n",
       "      <td>485820</td>\n",
       "      <td>126.460000</td>\n",
       "      <td>65.0</td>\n",
       "    </tr>\n",
       "    <tr>\n",
       "      <th>Split</th>\n",
       "      <td>3</td>\n",
       "      <td>Horror,Thriller</td>\n",
       "      <td>Three girls are kidnapped by a man with a diag...</td>\n",
       "      <td>M. Night Shyamalan</td>\n",
       "      <td>James McAvoy, Anya Taylor-Joy, Haley Lu Richar...</td>\n",
       "      <td>2016</td>\n",
       "      <td>117</td>\n",
       "      <td>7.3</td>\n",
       "      <td>157606</td>\n",
       "      <td>138.120000</td>\n",
       "      <td>62.0</td>\n",
       "    </tr>\n",
       "    <tr>\n",
       "      <th>Sing</th>\n",
       "      <td>4</td>\n",
       "      <td>Animation,Comedy,Family</td>\n",
       "      <td>In a city of humanoid animals, a hustling thea...</td>\n",
       "      <td>Christophe Lourdelet</td>\n",
       "      <td>Matthew McConaughey,Reese Witherspoon, Seth Ma...</td>\n",
       "      <td>2016</td>\n",
       "      <td>108</td>\n",
       "      <td>7.2</td>\n",
       "      <td>60545</td>\n",
       "      <td>270.320000</td>\n",
       "      <td>59.0</td>\n",
       "    </tr>\n",
       "    <tr>\n",
       "      <th>Suicide Squad</th>\n",
       "      <td>5</td>\n",
       "      <td>Action,Adventure,Fantasy</td>\n",
       "      <td>A secret government agency recruits some of th...</td>\n",
       "      <td>David Ayer</td>\n",
       "      <td>Will Smith, Jared Leto, Margot Robbie, Viola D...</td>\n",
       "      <td>2016</td>\n",
       "      <td>123</td>\n",
       "      <td>6.2</td>\n",
       "      <td>393727</td>\n",
       "      <td>325.020000</td>\n",
       "      <td>40.0</td>\n",
       "    </tr>\n",
       "    <tr>\n",
       "      <th>...</th>\n",
       "      <td>...</td>\n",
       "      <td>...</td>\n",
       "      <td>...</td>\n",
       "      <td>...</td>\n",
       "      <td>...</td>\n",
       "      <td>...</td>\n",
       "      <td>...</td>\n",
       "      <td>...</td>\n",
       "      <td>...</td>\n",
       "      <td>...</td>\n",
       "      <td>...</td>\n",
       "    </tr>\n",
       "    <tr>\n",
       "      <th>Secret in Their Eyes</th>\n",
       "      <td>996</td>\n",
       "      <td>Crime,Drama,Mystery</td>\n",
       "      <td>A tight-knit team of rising investigators, alo...</td>\n",
       "      <td>Billy Ray</td>\n",
       "      <td>Chiwetel Ejiofor, Nicole Kidman, Julia Roberts...</td>\n",
       "      <td>2015</td>\n",
       "      <td>111</td>\n",
       "      <td>6.2</td>\n",
       "      <td>27585</td>\n",
       "      <td>82.956376</td>\n",
       "      <td>45.0</td>\n",
       "    </tr>\n",
       "    <tr>\n",
       "      <th>Hostel: Part II</th>\n",
       "      <td>997</td>\n",
       "      <td>Horror</td>\n",
       "      <td>Three American college students studying abroa...</td>\n",
       "      <td>Eli Roth</td>\n",
       "      <td>Lauren German, Heather Matarazzo, Bijou Philli...</td>\n",
       "      <td>2007</td>\n",
       "      <td>94</td>\n",
       "      <td>5.5</td>\n",
       "      <td>73152</td>\n",
       "      <td>17.540000</td>\n",
       "      <td>46.0</td>\n",
       "    </tr>\n",
       "    <tr>\n",
       "      <th>Step Up 2: The Streets</th>\n",
       "      <td>998</td>\n",
       "      <td>Drama,Music,Romance</td>\n",
       "      <td>Romantic sparks occur between two dance studen...</td>\n",
       "      <td>Jon M. Chu</td>\n",
       "      <td>Robert Hoffman, Briana Evigan, Cassie Ventura,...</td>\n",
       "      <td>2008</td>\n",
       "      <td>98</td>\n",
       "      <td>6.2</td>\n",
       "      <td>70699</td>\n",
       "      <td>58.010000</td>\n",
       "      <td>50.0</td>\n",
       "    </tr>\n",
       "    <tr>\n",
       "      <th>Search Party</th>\n",
       "      <td>999</td>\n",
       "      <td>Adventure,Comedy</td>\n",
       "      <td>A pair of friends embark on a mission to reuni...</td>\n",
       "      <td>Scot Armstrong</td>\n",
       "      <td>Adam Pally, T.J. Miller, Thomas Middleditch,Sh...</td>\n",
       "      <td>2014</td>\n",
       "      <td>93</td>\n",
       "      <td>5.6</td>\n",
       "      <td>4881</td>\n",
       "      <td>82.956376</td>\n",
       "      <td>22.0</td>\n",
       "    </tr>\n",
       "    <tr>\n",
       "      <th>Nine Lives</th>\n",
       "      <td>1000</td>\n",
       "      <td>Comedy,Family,Fantasy</td>\n",
       "      <td>A stuffy businessman finds himself trapped ins...</td>\n",
       "      <td>Barry Sonnenfeld</td>\n",
       "      <td>Kevin Spacey, Jennifer Garner, Robbie Amell,Ch...</td>\n",
       "      <td>2016</td>\n",
       "      <td>87</td>\n",
       "      <td>5.3</td>\n",
       "      <td>12435</td>\n",
       "      <td>19.640000</td>\n",
       "      <td>11.0</td>\n",
       "    </tr>\n",
       "  </tbody>\n",
       "</table>\n",
       "<p>1000 rows × 11 columns</p>\n",
       "</div>"
      ],
      "text/plain": [
       "                         RANK                     GENRE  \\\n",
       "TITLE                                                     \n",
       "Guardians of the Galaxy     1   Action,Adventure,Sci-Fi   \n",
       "Prometheus                  2  Adventure,Mystery,Sci-Fi   \n",
       "Split                       3           Horror,Thriller   \n",
       "Sing                        4   Animation,Comedy,Family   \n",
       "Suicide Squad               5  Action,Adventure,Fantasy   \n",
       "...                       ...                       ...   \n",
       "Secret in Their Eyes      996       Crime,Drama,Mystery   \n",
       "Hostel: Part II           997                    Horror   \n",
       "Step Up 2: The Streets    998       Drama,Music,Romance   \n",
       "Search Party              999          Adventure,Comedy   \n",
       "Nine Lives               1000     Comedy,Family,Fantasy   \n",
       "\n",
       "                                                               DESCRIPTION  \\\n",
       "TITLE                                                                        \n",
       "Guardians of the Galaxy  A group of intergalactic criminals are forced ...   \n",
       "Prometheus               Following clues to the origin of mankind, a te...   \n",
       "Split                    Three girls are kidnapped by a man with a diag...   \n",
       "Sing                     In a city of humanoid animals, a hustling thea...   \n",
       "Suicide Squad            A secret government agency recruits some of th...   \n",
       "...                                                                    ...   \n",
       "Secret in Their Eyes     A tight-knit team of rising investigators, alo...   \n",
       "Hostel: Part II          Three American college students studying abroa...   \n",
       "Step Up 2: The Streets   Romantic sparks occur between two dance studen...   \n",
       "Search Party             A pair of friends embark on a mission to reuni...   \n",
       "Nine Lives               A stuffy businessman finds himself trapped ins...   \n",
       "\n",
       "                                     DIRECTOR  \\\n",
       "TITLE                                           \n",
       "Guardians of the Galaxy            James Gunn   \n",
       "Prometheus                       Ridley Scott   \n",
       "Split                      M. Night Shyamalan   \n",
       "Sing                     Christophe Lourdelet   \n",
       "Suicide Squad                      David Ayer   \n",
       "...                                       ...   \n",
       "Secret in Their Eyes                Billy Ray   \n",
       "Hostel: Part II                      Eli Roth   \n",
       "Step Up 2: The Streets             Jon M. Chu   \n",
       "Search Party                   Scot Armstrong   \n",
       "Nine Lives                   Barry Sonnenfeld   \n",
       "\n",
       "                                                                    ACTORS  \\\n",
       "TITLE                                                                        \n",
       "Guardians of the Galaxy  Chris Pratt, Vin Diesel, Bradley Cooper, Zoe S...   \n",
       "Prometheus               Noomi Rapace, Logan Marshall-Green, Michael Fa...   \n",
       "Split                    James McAvoy, Anya Taylor-Joy, Haley Lu Richar...   \n",
       "Sing                     Matthew McConaughey,Reese Witherspoon, Seth Ma...   \n",
       "Suicide Squad            Will Smith, Jared Leto, Margot Robbie, Viola D...   \n",
       "...                                                                    ...   \n",
       "Secret in Their Eyes     Chiwetel Ejiofor, Nicole Kidman, Julia Roberts...   \n",
       "Hostel: Part II          Lauren German, Heather Matarazzo, Bijou Philli...   \n",
       "Step Up 2: The Streets   Robert Hoffman, Briana Evigan, Cassie Ventura,...   \n",
       "Search Party             Adam Pally, T.J. Miller, Thomas Middleditch,Sh...   \n",
       "Nine Lives               Kevin Spacey, Jennifer Garner, Robbie Amell,Ch...   \n",
       "\n",
       "                         YEAR  RUNTIME  RATING   VOTES     REVENUE  METASCORE  \n",
       "TITLE                                                                          \n",
       "Guardians of the Galaxy  2014      121     8.1  757074  333.130000       76.0  \n",
       "Prometheus               2012      124     7.0  485820  126.460000       65.0  \n",
       "Split                    2016      117     7.3  157606  138.120000       62.0  \n",
       "Sing                     2016      108     7.2   60545  270.320000       59.0  \n",
       "Suicide Squad            2016      123     6.2  393727  325.020000       40.0  \n",
       "...                       ...      ...     ...     ...         ...        ...  \n",
       "Secret in Their Eyes     2015      111     6.2   27585   82.956376       45.0  \n",
       "Hostel: Part II          2007       94     5.5   73152   17.540000       46.0  \n",
       "Step Up 2: The Streets   2008       98     6.2   70699   58.010000       50.0  \n",
       "Search Party             2014       93     5.6    4881   82.956376       22.0  \n",
       "Nine Lives               2016       87     5.3   12435   19.640000       11.0  \n",
       "\n",
       "[1000 rows x 11 columns]"
      ]
     },
     "execution_count": 61,
     "metadata": {},
     "output_type": "execute_result"
    }
   ],
   "source": [
    "df_IMDB_title = df_IMDB.set_index('TITLE')\n",
    "df_IMDB_title"
   ]
  },
  {
   "cell_type": "markdown",
   "id": "fe920891-1046-414f-82db-73d7b3c00bd6",
   "metadata": {},
   "source": [
    "* **.loc[*nome_da_observação*]** - utilizamos o nosso índice para fazermos uma seleção."
   ]
  },
  {
   "cell_type": "code",
   "execution_count": 62,
   "id": "d2447304-9c6e-45b2-9b64-0cb6100d8081",
   "metadata": {},
   "outputs": [
    {
     "data": {
      "text/plain": [
       "RANK                                                           3\n",
       "GENRE                                            Horror,Thriller\n",
       "DESCRIPTION    Three girls are kidnapped by a man with a diag...\n",
       "DIRECTOR                                      M. Night Shyamalan\n",
       "ACTORS         James McAvoy, Anya Taylor-Joy, Haley Lu Richar...\n",
       "YEAR                                                        2016\n",
       "RUNTIME                                                      117\n",
       "RATING                                                       7.3\n",
       "VOTES                                                     157606\n",
       "REVENUE                                                   138.12\n",
       "METASCORE                                                   62.0\n",
       "Name: Split, dtype: object"
      ]
     },
     "execution_count": 62,
     "metadata": {},
     "output_type": "execute_result"
    }
   ],
   "source": [
    "df_IMDB_title.loc['Split']"
   ]
  },
  {
   "cell_type": "markdown",
   "id": "ca74a311-8913-418d-a10e-0577eaa40ba2",
   "metadata": {},
   "source": [
    "* **.iloc[*numero_observação*]** - utilizamos o índice natural para fazermos uma seleção."
   ]
  },
  {
   "cell_type": "code",
   "execution_count": 66,
   "id": "d8a7a0f7-cff3-4b7d-9ee1-4f52db270449",
   "metadata": {},
   "outputs": [
    {
     "data": {
      "text/plain": [
       "RANK                                                           3\n",
       "GENRE                                            Horror,Thriller\n",
       "DESCRIPTION    Three girls are kidnapped by a man with a diag...\n",
       "DIRECTOR                                      M. Night Shyamalan\n",
       "ACTORS         James McAvoy, Anya Taylor-Joy, Haley Lu Richar...\n",
       "YEAR                                                        2016\n",
       "RUNTIME                                                      117\n",
       "RATING                                                       7.3\n",
       "VOTES                                                     157606\n",
       "REVENUE                                                   138.12\n",
       "METASCORE                                                   62.0\n",
       "Name: Split, dtype: object"
      ]
     },
     "execution_count": 66,
     "metadata": {},
     "output_type": "execute_result"
    }
   ],
   "source": [
    "#Selecionamos a mesma observação mas através de atributos diferentes\n",
    "df_IMDB_title.iloc[2]"
   ]
  },
  {
   "cell_type": "code",
   "execution_count": null,
   "id": "f2c2046b-34ed-4bd3-ac8e-099c77eb395a",
   "metadata": {},
   "outputs": [],
   "source": []
  }
 ],
 "metadata": {
  "kernelspec": {
   "display_name": "Python 3 (ipykernel)",
   "language": "python",
   "name": "python3"
  },
  "language_info": {
   "codemirror_mode": {
    "name": "ipython",
    "version": 3
   },
   "file_extension": ".py",
   "mimetype": "text/x-python",
   "name": "python",
   "nbconvert_exporter": "python",
   "pygments_lexer": "ipython3",
   "version": "3.9.13"
  }
 },
 "nbformat": 4,
 "nbformat_minor": 5
}
